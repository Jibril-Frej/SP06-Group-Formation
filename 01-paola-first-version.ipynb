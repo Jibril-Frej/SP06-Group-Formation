{
 "cells": [
  {
   "cell_type": "markdown",
   "id": "c496433f",
   "metadata": {},
   "source": [
    "# Similarity and Complementary Clustering"
   ]
  },
  {
   "cell_type": "code",
   "execution_count": 1,
   "id": "c68e539f",
   "metadata": {},
   "outputs": [
    {
     "name": "stdout",
     "output_type": "stream",
     "text": [
      "AnmeldungCoLearningC_DATA_2023-02-22_1020.csv\r\n",
      "AnmeldungCoLearningC_DATA_LABELS_2023-02-22_1045.csv\r\n",
      "Innosuisse grouping.ipynb\r\n"
     ]
    }
   ],
   "source": [
    "!ls"
   ]
  },
  {
   "cell_type": "code",
   "execution_count": 20,
   "id": "72b695c0",
   "metadata": {},
   "outputs": [],
   "source": [
    "import pandas as pd\n",
    "import random\n",
    "import numpy as np\n",
    "\n",
    "import pandas as pd\n",
    "from scipy.spatial.distance import euclidean, pdist, squareform\n",
    "import seaborn as sns\n",
    "from sklearn.cluster import SpectralClustering\n",
    "\n",
    "\n",
    "random.seed(123)"
   ]
  },
  {
   "cell_type": "markdown",
   "id": "f286c3c5",
   "metadata": {},
   "source": [
    "### Load data and translate columns"
   ]
  },
  {
   "cell_type": "code",
   "execution_count": 12,
   "id": "d07b05e6",
   "metadata": {},
   "outputs": [
    {
     "data": {
      "text/html": [
       "<div>\n",
       "<style scoped>\n",
       "    .dataframe tbody tr th:only-of-type {\n",
       "        vertical-align: middle;\n",
       "    }\n",
       "\n",
       "    .dataframe tbody tr th {\n",
       "        vertical-align: top;\n",
       "    }\n",
       "\n",
       "    .dataframe thead th {\n",
       "        text-align: right;\n",
       "    }\n",
       "</style>\n",
       "<table border=\"1\" class=\"dataframe\">\n",
       "  <thead>\n",
       "    <tr style=\"text-align: right;\">\n",
       "      <th></th>\n",
       "      <th>record_id</th>\n",
       "      <th>redcap_survey_identifier</th>\n",
       "      <th>anmeldung_colearning_circles_timestamp</th>\n",
       "      <th>ee2</th>\n",
       "      <th>ee3</th>\n",
       "      <th>ee4</th>\n",
       "      <th>kom21</th>\n",
       "      <th>komm7</th>\n",
       "      <th>komm11</th>\n",
       "      <th>komm5</th>\n",
       "      <th>...</th>\n",
       "      <th>job1___5</th>\n",
       "      <th>job1___6</th>\n",
       "      <th>job1___7</th>\n",
       "      <th>job1___8</th>\n",
       "      <th>job1___9</th>\n",
       "      <th>zuf</th>\n",
       "      <th>zuf_2</th>\n",
       "      <th>bitte_listen_sie_alle_weit</th>\n",
       "      <th>beweg</th>\n",
       "      <th>anmeldung_colearning_circles_complete</th>\n",
       "    </tr>\n",
       "  </thead>\n",
       "  <tbody>\n",
       "    <tr>\n",
       "      <th>0</th>\n",
       "      <td>1</td>\n",
       "      <td>NaN</td>\n",
       "      <td>[not completed]</td>\n",
       "      <td>NaN</td>\n",
       "      <td>NaN</td>\n",
       "      <td>NaN</td>\n",
       "      <td>NaN</td>\n",
       "      <td>NaN</td>\n",
       "      <td>NaN</td>\n",
       "      <td>NaN</td>\n",
       "      <td>...</td>\n",
       "      <td>0</td>\n",
       "      <td>0</td>\n",
       "      <td>0</td>\n",
       "      <td>0</td>\n",
       "      <td>0</td>\n",
       "      <td>NaN</td>\n",
       "      <td>NaN</td>\n",
       "      <td>NaN</td>\n",
       "      <td>NaN</td>\n",
       "      <td>0</td>\n",
       "    </tr>\n",
       "    <tr>\n",
       "      <th>1</th>\n",
       "      <td>2</td>\n",
       "      <td>NaN</td>\n",
       "      <td>[not completed]</td>\n",
       "      <td>1.0</td>\n",
       "      <td>NaN</td>\n",
       "      <td>NaN</td>\n",
       "      <td>NaN</td>\n",
       "      <td>NaN</td>\n",
       "      <td>NaN</td>\n",
       "      <td>NaN</td>\n",
       "      <td>...</td>\n",
       "      <td>0</td>\n",
       "      <td>0</td>\n",
       "      <td>0</td>\n",
       "      <td>0</td>\n",
       "      <td>0</td>\n",
       "      <td>NaN</td>\n",
       "      <td>NaN</td>\n",
       "      <td>NaN</td>\n",
       "      <td>NaN</td>\n",
       "      <td>0</td>\n",
       "    </tr>\n",
       "    <tr>\n",
       "      <th>2</th>\n",
       "      <td>3</td>\n",
       "      <td>NaN</td>\n",
       "      <td>[not completed]</td>\n",
       "      <td>1.0</td>\n",
       "      <td>NaN</td>\n",
       "      <td>NaN</td>\n",
       "      <td>NaN</td>\n",
       "      <td>NaN</td>\n",
       "      <td>NaN</td>\n",
       "      <td>NaN</td>\n",
       "      <td>...</td>\n",
       "      <td>0</td>\n",
       "      <td>0</td>\n",
       "      <td>0</td>\n",
       "      <td>0</td>\n",
       "      <td>0</td>\n",
       "      <td>NaN</td>\n",
       "      <td>NaN</td>\n",
       "      <td>NaN</td>\n",
       "      <td>NaN</td>\n",
       "      <td>0</td>\n",
       "    </tr>\n",
       "    <tr>\n",
       "      <th>3</th>\n",
       "      <td>4</td>\n",
       "      <td>NaN</td>\n",
       "      <td>[not completed]</td>\n",
       "      <td>1.0</td>\n",
       "      <td>NaN</td>\n",
       "      <td>NaN</td>\n",
       "      <td>NaN</td>\n",
       "      <td>NaN</td>\n",
       "      <td>NaN</td>\n",
       "      <td>NaN</td>\n",
       "      <td>...</td>\n",
       "      <td>0</td>\n",
       "      <td>0</td>\n",
       "      <td>0</td>\n",
       "      <td>0</td>\n",
       "      <td>0</td>\n",
       "      <td>NaN</td>\n",
       "      <td>NaN</td>\n",
       "      <td>NaN</td>\n",
       "      <td>NaN</td>\n",
       "      <td>0</td>\n",
       "    </tr>\n",
       "    <tr>\n",
       "      <th>4</th>\n",
       "      <td>5</td>\n",
       "      <td>NaN</td>\n",
       "      <td>[not completed]</td>\n",
       "      <td>1.0</td>\n",
       "      <td>NaN</td>\n",
       "      <td>NaN</td>\n",
       "      <td>NaN</td>\n",
       "      <td>NaN</td>\n",
       "      <td>NaN</td>\n",
       "      <td>NaN</td>\n",
       "      <td>...</td>\n",
       "      <td>0</td>\n",
       "      <td>0</td>\n",
       "      <td>0</td>\n",
       "      <td>0</td>\n",
       "      <td>0</td>\n",
       "      <td>NaN</td>\n",
       "      <td>NaN</td>\n",
       "      <td>NaN</td>\n",
       "      <td>NaN</td>\n",
       "      <td>0</td>\n",
       "    </tr>\n",
       "  </tbody>\n",
       "</table>\n",
       "<p>5 rows × 106 columns</p>\n",
       "</div>"
      ],
      "text/plain": [
       "   record_id  redcap_survey_identifier anmeldung_colearning_circles_timestamp  \\\n",
       "0          1                       NaN                        [not completed]   \n",
       "1          2                       NaN                        [not completed]   \n",
       "2          3                       NaN                        [not completed]   \n",
       "3          4                       NaN                        [not completed]   \n",
       "4          5                       NaN                        [not completed]   \n",
       "\n",
       "   ee2  ee3  ee4  kom21  komm7  komm11  komm5  ...  job1___5  job1___6  \\\n",
       "0  NaN  NaN  NaN    NaN    NaN     NaN    NaN  ...         0         0   \n",
       "1  1.0  NaN  NaN    NaN    NaN     NaN    NaN  ...         0         0   \n",
       "2  1.0  NaN  NaN    NaN    NaN     NaN    NaN  ...         0         0   \n",
       "3  1.0  NaN  NaN    NaN    NaN     NaN    NaN  ...         0         0   \n",
       "4  1.0  NaN  NaN    NaN    NaN     NaN    NaN  ...         0         0   \n",
       "\n",
       "   job1___7  job1___8  job1___9  zuf  zuf_2  bitte_listen_sie_alle_weit  \\\n",
       "0         0         0         0  NaN    NaN                         NaN   \n",
       "1         0         0         0  NaN    NaN                         NaN   \n",
       "2         0         0         0  NaN    NaN                         NaN   \n",
       "3         0         0         0  NaN    NaN                         NaN   \n",
       "4         0         0         0  NaN    NaN                         NaN   \n",
       "\n",
       "   beweg  anmeldung_colearning_circles_complete  \n",
       "0    NaN                                      0  \n",
       "1    NaN                                      0  \n",
       "2    NaN                                      0  \n",
       "3    NaN                                      0  \n",
       "4    NaN                                      0  \n",
       "\n",
       "[5 rows x 106 columns]"
      ]
     },
     "execution_count": 12,
     "metadata": {},
     "output_type": "execute_result"
    }
   ],
   "source": [
    "df = pd.read_csv('AnmeldungCoLearningC_DATA_2023-02-22_1020.csv', sep = ';')\n",
    "df.head()"
   ]
  },
  {
   "cell_type": "code",
   "execution_count": 13,
   "id": "f7841ed7",
   "metadata": {},
   "outputs": [
    {
     "data": {
      "text/plain": [
       "['Record ID',\n",
       " 'Survey Identifier',\n",
       " 'Survey Timestamp',\n",
       " 'Unnamed: 3',\n",
       " 'Unnamed: 4',\n",
       " 'Unnamed: 5',\n",
       " 'Schwierige Gespräche führen',\n",
       " 'Verständliche und überzeugende Präsentationen halten',\n",
       " 'Verhandlungen vorbereiten und durchführen',\n",
       " 'Mit Feedback Entwicklung anstossen',\n",
       " 'Neue Teammitglieder onboarden und ins Team integrieren',\n",
       " 'Teams durch organisatorische Veränderungen führen',\n",
       " 'Mit Personal-/Fachkräftemangel umgehen',\n",
       " 'Konflikte im Team ansprechen und lösen',\n",
       " 'Effiziente Suche nach Informationen von vertrauenswürdigen Quellen im Internet',\n",
       " 'Virtuelle Workshops moderieren',\n",
       " 'Effektive virtuelle Zusammenarbeit im Team',\n",
       " 'Professionelles Netzwerk online pflegen und ausbauen',\n",
       " 'Welche der folgenden Kompetenzen würden Sie gerne weiterentwickeln? Falls Sie mehrere Kompetenzen weiterentwickeln möchten, wählen Sie bitte die Kompetenz aus, bei denen Ihr Interesse an Weiterentwicklung am grössten ist.',\n",
       " 'Schwierige Gespräche führen.1',\n",
       " 'Verständliche und überzeugende Präsentationen halten.1',\n",
       " 'Verhandlungen vorbereiten und durchführen.1',\n",
       " 'Mit Feedback Entwicklung anstossen.1',\n",
       " 'Neue Teammitglieder onboarden und ins Team integrieren.1',\n",
       " 'Teams durch organisatorische Veränderungen führen.1',\n",
       " 'Mit Personal- und Fachkräftemangel umgehen',\n",
       " 'Konflikte im Team ansprechen und lösen.1',\n",
       " 'Effiziente Suche nach Informationen von vertrauenswürdigen Quellen im Internet.1',\n",
       " 'Virtuelle Workshops moderieren.1',\n",
       " 'Effektive virtuelle Zusammenarbeit im Team.1',\n",
       " 'Professionelles Netzwerk online pflegen und ausbauen.1',\n",
       " 'Haben Sie eine Präferenz bei der Grösse des CoLearning Circles?',\n",
       " 'Montags (choice=8-12 Uhr)',\n",
       " 'Montags (choice=12-17 Uhr)',\n",
       " 'Montags (choice=17-20 Uhr)',\n",
       " 'Montags (choice=Keine Verfügbarkeit)',\n",
       " 'Dienstags (choice=8-12 Uhr)',\n",
       " 'Dienstags (choice=12-17 Uhr)',\n",
       " 'Dienstags (choice=17-20 Uhr)',\n",
       " 'Dienstags (choice=Keine Verfügbarkeit)',\n",
       " 'Mittwochs (choice=8-12 Uhr)',\n",
       " 'Mittwochs (choice=12-17 Uhr)',\n",
       " 'Mittwochs (choice=17-20 Uhr)',\n",
       " 'Mittwochs (choice=Keine Verfügbarkeit)',\n",
       " 'Donnerstags (choice=8-12 Uhr)',\n",
       " 'Donnerstags (choice=12-17 Uhr)',\n",
       " 'Donnerstags (choice=17-20 Uhr)',\n",
       " 'Donnerstags (choice=Keine Verfügbarkeit)',\n",
       " 'Freitags (choice=8-12 Uhr)',\n",
       " 'Freitags (choice=12-17 Uhr)',\n",
       " 'Freitags (choice=17-20 Uhr)',\n",
       " 'Freitags (choice=Keine Verfügbarkeit)',\n",
       " 'Samstags (choice=8-12 Uhr)',\n",
       " 'Samstags (choice=12-17 Uhr)',\n",
       " 'Samstags (choice=17-20 Uhr)',\n",
       " 'Samstags (choice=Keine Verfügbarkeit)',\n",
       " 'Sonntags (choice=8-12 Uhr)',\n",
       " 'Sonntags (choice=12-17 Uhr)',\n",
       " 'Sonntags (choice=17-20 Uhr)',\n",
       " 'Sonntags (choice=Keine Verfügbarkeit)',\n",
       " 'Zu welchen Startterminen könnten Sie an einem CoLearning Pilot teilnehmen? (Dauer ab Startdatum: 4-6 Wochen) (choice=März 2023)',\n",
       " 'Zu welchen Startterminen könnten Sie an einem CoLearning Pilot teilnehmen? (Dauer ab Startdatum: 4-6 Wochen) (choice=April 2023)',\n",
       " 'Zu welchen Startterminen könnten Sie an einem CoLearning Pilot teilnehmen? (Dauer ab Startdatum: 4-6 Wochen) (choice=Mai 2023)',\n",
       " 'Zu welchen Startterminen könnten Sie an einem CoLearning Pilot teilnehmen? (Dauer ab Startdatum: 4-6 Wochen) (choice=Juni 2023)',\n",
       " 'E-Mail Adresse',\n",
       " 'Bitte geben Sie Ihr Alter an. ',\n",
       " 'Welchem Geschlecht fühlen Sie sich zugehörig?',\n",
       " 'Was ist Ihr höchster Bildungsabschluss?',\n",
       " 'Erwerbstätigkeit',\n",
       " 'In welchem Wirtschaftssektor arbeiten Sie?  Mehrfachnennungen möglich (choice=Banken / Finanzinstitute)',\n",
       " 'In welchem Wirtschaftssektor arbeiten Sie?  Mehrfachnennungen möglich (choice=Baugewerbe / Immobilien)',\n",
       " 'In welchem Wirtschaftssektor arbeiten Sie?  Mehrfachnennungen möglich (choice=Bildungswesen)',\n",
       " 'In welchem Wirtschaftssektor arbeiten Sie?  Mehrfachnennungen möglich (choice=Chemie / Pharma)',\n",
       " 'In welchem Wirtschaftssektor arbeiten Sie?  Mehrfachnennungen möglich (choice=Consulting)',\n",
       " 'In welchem Wirtschaftssektor arbeiten Sie?  Mehrfachnennungen möglich (choice=Detail- / Grosshandel)',\n",
       " 'In welchem Wirtschaftssektor arbeiten Sie?  Mehrfachnennungen möglich (choice=Dienstleistungen, allgemein)',\n",
       " 'In welchem Wirtschaftssektor arbeiten Sie?  Mehrfachnennungen möglich (choice=Energie- / Wasserwirtschaft)',\n",
       " 'In welchem Wirtschaftssektor arbeiten Sie?  Mehrfachnennungen möglich (choice=Gastgewerbe / Hotellerie)',\n",
       " 'In welchem Wirtschaftssektor arbeiten Sie?  Mehrfachnennungen möglich (choice=Gesundheits- / Sozialwesen)',\n",
       " 'In welchem Wirtschaftssektor arbeiten Sie?  Mehrfachnennungen möglich (choice=Gewerbe / Handwerk allgemein)',\n",
       " 'In welchem Wirtschaftssektor arbeiten Sie?  Mehrfachnennungen möglich (choice=Industrie diverse)',\n",
       " 'In welchem Wirtschaftssektor arbeiten Sie?  Mehrfachnennungen möglich (choice=Informatik / Telekommunikation)',\n",
       " 'In welchem Wirtschaftssektor arbeiten Sie?  Mehrfachnennungen möglich (choice=Konsum- / Luxusgüterindustrie)',\n",
       " 'In welchem Wirtschaftssektor arbeiten Sie?  Mehrfachnennungen möglich (choice=Land- / Forstwirtschaft)',\n",
       " 'In welchem Wirtschaftssektor arbeiten Sie?  Mehrfachnennungen möglich (choice=Maschinen- / Anlagenbau)',\n",
       " 'In welchem Wirtschaftssektor arbeiten Sie?  Mehrfachnennungen möglich (choice=Medizinaltechnik)',\n",
       " 'In welchem Wirtschaftssektor arbeiten Sie?  Mehrfachnennungen möglich (choice=Öffentliche Verwaltung / Verbände)',\n",
       " 'In welchem Wirtschaftssektor arbeiten Sie?  Mehrfachnennungen möglich (choice=Tourismus / Freizeit)',\n",
       " 'In welchem Wirtschaftssektor arbeiten Sie?  Mehrfachnennungen möglich (choice=Transport / Logistik)',\n",
       " 'In welchem Wirtschaftssektor arbeiten Sie?  Mehrfachnennungen möglich (choice=Sonstiges)',\n",
       " 'In welchem Wirtschaftssektor arbeiten Sie?  Mehrfachnennungen möglich (choice=Nicht zutreffend/keine Angabe)',\n",
       " 'Was ist Ihr aktueller bzw. letzter Job-Titel (z.B. Projektmanager:in, Chemielaborant:in)?',\n",
       " 'Wie würden Sie Ihre aktuelle bzw. letzte Jobfunktion kategorisieren? (choice=Ungelernte Tätigkeit)',\n",
       " 'Wie würden Sie Ihre aktuelle bzw. letzte Jobfunktion kategorisieren? (choice=Sachbearbeiter:in)',\n",
       " 'Wie würden Sie Ihre aktuelle bzw. letzte Jobfunktion kategorisieren? (choice=Facharbeiter:in)',\n",
       " 'Wie würden Sie Ihre aktuelle bzw. letzte Jobfunktion kategorisieren? (choice=Fachexpert:in)',\n",
       " 'Wie würden Sie Ihre aktuelle bzw. letzte Jobfunktion kategorisieren? (choice=Untere Führungsebene (z.B. Teamleitung))',\n",
       " 'Wie würden Sie Ihre aktuelle bzw. letzte Jobfunktion kategorisieren? (choice=Mittlere Führungsebene (z.B. Abteilungs- / Bereichsleitung))',\n",
       " 'Wie würden Sie Ihre aktuelle bzw. letzte Jobfunktion kategorisieren? (choice=Obere Führungsebene (z.B. Mitglied der Geschäftsleitung))',\n",
       " 'Wie würden Sie Ihre aktuelle bzw. letzte Jobfunktion kategorisieren? (choice=Sonstiges)',\n",
       " 'Wie würden Sie Ihre aktuelle bzw. letzte Jobfunktion kategorisieren? (choice=Keine Angabe)',\n",
       " 'Wie zufrieden sind Sie mit den aktuellen Weiterbildungsangeboten Ihrer Organisation (Ihres Arbeitgebers, Institution, Schule)?',\n",
       " 'Wie zufrieden sind Sie mit den aktuellen Angeboten, die in Ihrer Organisation für den Austausch unter Mitarbeitenden bestehen? ',\n",
       " \"Bitte listen Sie alle formalen Weiterbildungen auf, an denen Sie in den letzten 3 Jahren teilgenommen haben. Hierzu zählen Master of Advanced Studies (MAS), Diploma of Advanced Studies (DAS) und Certificate of Advanced Studies (CAS), z.B.: 'CAS Bildung in Organisationen strategisch führen, IAP Zürich, 2020'.\",\n",
       " 'Was hat Sie dazu bewegt, sich für einen CoLearning Circle anzumelden?  Nennen Sie stichwortartig die für Sie wichtigsten 1-3 Gründe. ',\n",
       " 'Complete?']"
      ]
     },
     "execution_count": 13,
     "metadata": {},
     "output_type": "execute_result"
    }
   ],
   "source": [
    "df_labels = pd.read_csv('AnmeldungCoLearningC_DATA_LABELS_2023-02-22_1045.csv', sep = ';')\n",
    "list(df_labels.columns)"
   ]
  },
  {
   "cell_type": "code",
   "execution_count": 14,
   "id": "2938786b",
   "metadata": {},
   "outputs": [],
   "source": [
    "df_translated = df_labels\n",
    "df_translated.columns = ['Record ID',\n",
    " 'Survey Identifier',\n",
    " 'Survey Timestamp',\n",
    " 'Unnamed: 3',\n",
    " 'Unnamed: 4',\n",
    " 'Unnamed: 5',\n",
    " 'Conduct Difficult Conversations',\n",
    " 'Giving Understandable and Persuasive Presentations',\n",
    " 'Preparing and conducting negotiations',\n",
    " 'Nudging development with feedback',\n",
    " 'Onboarding new team members and integrating them into the team',\n",
    " 'Leading teams through organizational change',\n",
    " 'Dealing with staff/skill shortages',\n",
    " 'Addressing and resolving team conflicts',\n",
    " 'Finding information efficiently from trusted sources on the Internet',\n",
    " 'Facilitating virtual workshops',\n",
    " 'Effective virtual team collaboration',\n",
    " 'Maintaining and expanding professional network online',\n",
    " 'Which of the following competencies would you like to develop further?',\n",
    " 'Conducting difficult conversations.1',\n",
    " 'Giving understandable and convincing presentations.1',\n",
    " 'Preparing and conducting negotiations.1',\n",
    " 'Nudging development with feedback.1',\n",
    " 'Onboarding new team members and integrating them into the team.1',\n",
    " 'Leading teams through organizational change.1',\n",
    " 'Dealing with staff and skill shortages',\n",
    " 'Addressing and resolving team conflicts.1',\n",
    " 'Finding information efficiently from trusted sources on the Internet.1',\n",
    " 'Facilitating virtual workshops.1',\n",
    " 'Effective virtual team collaboration.1',\n",
    " 'Maintain and expand professional network online.1',\n",
    " 'Do you have a preference in the size of the CoLearning Circle?',\n",
    " 'Mondays (choice=8am-12pm)',\n",
    " 'Mondays (choice=12pm-5pm)',\n",
    " 'Mondays (choice=5pm-8pm)',\n",
    " 'Mondays (choice=No availability)',\n",
    " 'Tuesdays (choice=8am-12pm)',\n",
    " 'Tuesdays (choice=12pm-5pm)',\n",
    " 'Tuesdays (choice=5pm-8pm)',\n",
    " 'Tuesdays (choice=No availability)',\n",
    " 'Wednesdays (choice=8am-12pm)',\n",
    " 'Wednesdays (choice=12pm-5pm)',\n",
    " 'Wednesdays (choice=5pm-8pm)',\n",
    " 'Wednesdays (choice=No availability)',\n",
    " 'Thursdays (choice=8am-12pm)',\n",
    " 'Thursdays (choice=12pm-5pm)',\n",
    " 'Thursdays (choice=5pm-8pm)',\n",
    " 'Thursdays (choice=No availability)',\n",
    " 'Fridays (choice=8am-12pm)',\n",
    " 'Fridays (choice=12pm-5pm)',\n",
    " 'Fridays (choice=5pm-8pm)',\n",
    " 'Fridays (choice=No availability)',\n",
    " 'Saturdays (choice=8am-12pm)',\n",
    " 'Saturdays (choice=12pm-5pm)',\n",
    " 'Saturdays (choice=5pm-8pm)',\n",
    " 'Saturdays (choice=No availability)',\n",
    " 'Sundays (choice=8am-12pm)',\n",
    " 'Sundays (choice=12pm-5pm)',\n",
    " 'Sundays (choice=5pm-8pm)',\n",
    " 'Sundays (choice=No availability)',\n",
    " 'On what start dates could you participate in a CoLearning Pilot? (Duration from start date: 4-6 weeks) (choice=March 2023)',\n",
    " 'On which start dates could you participate in a CoLearning Pilot? (Duration from start date: 4-6 weeks) (choice=April 2023)',\n",
    " 'On which start dates could you participate in a CoLearning Pilot? (Duration from start date: 4-6 weeks) (choice=May 2023)',\n",
    " 'On which start dates could you participate in a CoLearning Pilot? (Duration from start date: 4-6 weeks) (choice=June 2023)',\n",
    " 'Email address',\n",
    " 'Please indicate your age. ',\n",
    " 'What gender do you feel you belong to?',\n",
    " 'What is your highest level of education?',\n",
    " 'Employment',\n",
    "'In which sector of the economy do you work?  Multiple answers possible (choice=banks/financial institutions)',\n",
    " 'In which economic sector do you work?  Multiple answers possible (choice=construction / real estate)',\n",
    " 'In which economic sector do you work?  Multiple answers possible (choice=education)',\n",
    " 'In which economic sector do you work?  Multiple answers possible (choice=chemical / pharmaceutical)',\n",
    " 'In which economic sector do you work?  Multiple answers possible (choice=Consulting)',\n",
    " 'In which economic sector do you work?  Multiple answers possible (choice=Detail / Wholesale)',\n",
    " 'In which economic sector do you work?  Multiple answers possible (choice=Services, general)',\n",
    " 'In which economic sector do you work?  Multiple answers possible (choice=energy / water industry)',\n",
    " 'In which economic sector do you work?  Multiple answers possible (choice=hospitality / hotel industry)',\n",
    " 'In which economic sector do you work?  Multiple answers possible (choice=health care / social services)',\n",
    " 'In which economic sector do you work?  Multiple answers possible (choice=trade / crafts in general)',\n",
    " 'In which economic sector do you work?  Multiple answers possible (choice=industry diverse)',\n",
    " 'In which economic sector do you work?  Multiple answers possible (choice=Informatics / Telecommunications)',\n",
    " 'In which economic sector do you work?  Multiple answers possible (choice=consumer / luxury goods industry)',\n",
    " 'In which economic sector do you work?  Multiple answers possible (choice=agriculture / forestry)',\n",
    " 'In which economic sector do you work?  Multiple answers possible (choice=mechanical / plant engineering)',\n",
    " 'In which economic sector do you work?  Multiple answers possible (choice=medical technology)',\n",
    " 'In which economic sector do you work?  Multiple answers possible (choice=public administration / associations)',\n",
    " 'In which economic sector do you work?  Multiple answers possible (choice=Tourism / Leisure)',\n",
    " 'In which economic sector do you work?  Multiple answers possible (choice=Transportation / Logistics)',\n",
    " 'In which economic sector do you work?  Multiple answers possible (choice=Other)',\n",
    " 'In which economic sector do you work?  Multiple answers possible (choice=not applicable/no answer)',\n",
    " 'What is your current or last job title (e.g., project manager:in, chemical lab technician:in)?',\n",
    " 'How would you categorize your current or most recent job function? (choice=unskilled job)',\n",
    " 'How would you categorize your current or last job function? (choice=clerk:in)',\n",
    " 'How would you categorize your current or last job function? (choice=Specialist:in)',\n",
    " 'How would you categorize your current or last job function? (choice=Specialist:in)',\n",
    " 'How would you categorize your current or last job function? (choice=lower management level (e.g. team leader))',\n",
    " 'How would you categorize your current or last job function? (choice=Middle management level (e.g. department / division management))',\n",
    " 'How would you categorize your current or last job function? (choice=Upper management level (e.g., member of executive management))',\n",
    " 'How would you categorize your current or last job function? (choice=Other)',\n",
    " 'How would you categorize your current or last job function? (choice=Not specified)',\n",
    " 'How satisfied are you with the current professional development opportunities offered by your organization (your employer, institution, school)?',\n",
    " 'How satisfied are you with the current offerings that exist in your organization for sharing among employees? ',\n",
    " 'Please list all formal continuing education courses you have participated in over the past 3 years.',\n",
    " 'What made you decide to sign up for a CoLearning Circle?',\n",
    " 'Complete?']"
   ]
  },
  {
   "cell_type": "code",
   "execution_count": 15,
   "id": "7b08fd37",
   "metadata": {},
   "outputs": [
    {
     "name": "stdout",
     "output_type": "stream",
     "text": [
      "50\n",
      "28\n"
     ]
    }
   ],
   "source": [
    "print(len(df_translated))\n",
    "df_translated =df_translated[~df_translated['Conduct Difficult Conversations'].isna()] \n",
    "print(len(df_translated))"
   ]
  },
  {
   "cell_type": "markdown",
   "id": "85e95073",
   "metadata": {},
   "source": [
    "## 0) Simulate two groups from experiment"
   ]
  },
  {
   "cell_type": "code",
   "execution_count": 16,
   "id": "89d14644",
   "metadata": {},
   "outputs": [
    {
     "name": "stderr",
     "output_type": "stream",
     "text": [
      "/var/folders/hw/d816vr215jzc635m0st0ybyw0000gp/T/ipykernel_36396/474821269.py:1: SettingWithCopyWarning: \n",
      "A value is trying to be set on a copy of a slice from a DataFrame.\n",
      "Try using .loc[row_indexer,col_indexer] = value instead\n",
      "\n",
      "See the caveats in the documentation: https://pandas.pydata.org/pandas-docs/stable/user_guide/indexing.html#returning-a-view-versus-a-copy\n",
      "  df_translated['treatment'] = [random.randint(0, 1) for i in range(len(df_translated)) ]\n"
     ]
    },
    {
     "data": {
      "text/plain": [
       "0    16\n",
       "1    12\n",
       "Name: treatment, dtype: int64"
      ]
     },
     "execution_count": 16,
     "metadata": {},
     "output_type": "execute_result"
    }
   ],
   "source": [
    "df_translated['treatment'] = [random.randint(0, 1) for i in range(len(df_translated)) ]\n",
    "df_translated['treatment'].value_counts()"
   ]
  },
  {
   "cell_type": "markdown",
   "id": "5bf47bc6",
   "metadata": {},
   "source": [
    "## 1) Group by similarity"
   ]
  },
  {
   "cell_type": "markdown",
   "id": "795fcfb4",
   "metadata": {},
   "source": [
    "### Questions for Innosuisse\n",
    "1. Check that first are competences and then interests. \n",
    "2. Similarity: similar learning interests. But \"competence level shouldn't be too low (> 3)\" you mean interest levels?\n",
    " \n",
    "* For now we assume that first are the competences and then the interests.\n",
    "* And if the interest is low (1,2 or 3) we assume the person is not interested. "
   ]
  },
  {
   "cell_type": "code",
   "execution_count": 17,
   "id": "3886465c",
   "metadata": {},
   "outputs": [
    {
     "data": {
      "text/plain": [
       "12"
      ]
     },
     "execution_count": 17,
     "metadata": {},
     "output_type": "execute_result"
    }
   ],
   "source": [
    "## Similarity \n",
    "df_similar = df_translated[df_translated['treatment']==1]\n",
    "len(df_similar)"
   ]
  },
  {
   "cell_type": "code",
   "execution_count": 21,
   "id": "4c8b718d",
   "metadata": {},
   "outputs": [],
   "source": [
    "df_similar_interests = df_similar[['Conducting difficult conversations.1',\n",
    " 'Giving understandable and convincing presentations.1',\n",
    " 'Preparing and conducting negotiations.1',\n",
    " 'Nudging development with feedback.1',\n",
    " 'Onboarding new team members and integrating them into the team.1',\n",
    " 'Leading teams through organizational change.1',\n",
    " 'Dealing with staff and skill shortages',\n",
    " 'Addressing and resolving team conflicts.1',\n",
    " 'Finding information efficiently from trusted sources on the Internet.1',\n",
    " 'Facilitating virtual workshops.1',\n",
    " 'Effective virtual team collaboration.1',\n",
    " 'Maintain and expand professional network online.1']].fillna(-1)\n",
    "\n",
    "m_interests = np.matrix(df_similar_interests)\n",
    "\n",
    "# Constrain: competence level shouldn't be too low (> 3) \n",
    "# Solution: If the competence level is below or equal to 3, we assume that it is not there.\n",
    "m_interests[m_interests<=3] = -1"
   ]
  },
  {
   "cell_type": "code",
   "execution_count": 22,
   "id": "a1659913",
   "metadata": {},
   "outputs": [],
   "source": [
    "\n",
    "# Constrain: difference among persons shouldn''t be too high (max 3)\n",
    "def get_labels(m_interests, metric= 'euclidean',gamma = 0.01):\n",
    "    distance = squareform(pdist(m_interests, metric=metric))\n",
    "    similarity = np.exp(-gamma * distance ** 2)\n",
    "    labels = SpectralClustering(n_clusters=2,random_state=123,affinity='precomputed').fit_predict(similarity)\n",
    "    return labels"
   ]
  },
  {
   "cell_type": "code",
   "execution_count": 23,
   "id": "11455b19",
   "metadata": {},
   "outputs": [],
   "source": [
    "def get_labels(m_interests, metric= 'euclidean',gamma = 0.01):\n",
    "    distance = squareform(pdist(m_interests, metric=metric))\n",
    "    similarity = np.exp(-gamma * distance ** 2)\n",
    "    labels = SpectralClustering(n_clusters=2,random_state=123,affinity='precomputed').fit_predict(similarity)\n",
    "    return labels\n",
    "\n",
    "def hierarchical_spectral(m_matrix , labels, metric= 'euclidean',gamma = 0.01, offset = 2 ):    \n",
    "    \n",
    "    unique_labels, counts_labels = np.unique(labels, return_counts=True)\n",
    "    print(unique_labels, counts_labels)\n",
    "    labels_to_explore = unique_labels\n",
    "\n",
    "    while len(labels_to_explore)>= 1:\n",
    "        print('Labels to explore: ', labels_to_explore)\n",
    "        i = labels_to_explore[0]\n",
    "        mask = labels==i\n",
    "        size = np.sum(mask)\n",
    "        if size >= 4:\n",
    "            # see if we can split\n",
    "            m_aux = m_matrix[mask]\n",
    "            new_labels = get_labels(m_aux, metric, gamma) + offset\n",
    "\n",
    "            new_unique_labels, new_counts_labels = np.unique(new_labels, return_counts=True)\n",
    "            if np.min(new_counts_labels)>=2:\n",
    "                # We acept the clustering, we upload the labels \n",
    "                labels[mask] = new_labels \n",
    "                \n",
    "                offset += 2 # We move the offset\n",
    "                # We add the new labels as labels to explore to the list\n",
    "                labels_to_explore = np.union1d(labels_to_explore, np.unique(new_labels))\n",
    "                labels_to_explore = np.setdiff1d(labels_to_explore, np.array([i]))\n",
    "                print(f'Adding labels and removes current {i}. Updated list: {labels_to_explore}')\n",
    "                unique_labels, counts_labels = np.unique(labels, return_counts=True)\n",
    "                print(f\"Unique labels {unique_labels} with counts {counts_labels}\")\n",
    "            else:\n",
    "                # We do not accept, keep the group as it is. Not divisible. \n",
    "                labels_to_explore = np.setdiff1d(labels_to_explore, np.array([i]))\n",
    "                print(f\"We do not accept the new labels. Counts {new_counts_labels}\")\n",
    "                print('Removing labels: ', labels_to_explore)\n",
    "        else:\n",
    "            labels_to_explore = np.setdiff1d(labels_to_explore, np.array([i]))\n",
    "            print(f\"Small group for {i}. Size = {size}\")\n",
    "            print('Removing labels: ', labels_to_explore)\n",
    "\n",
    "\n",
    "    return labels\n",
    "\n",
    "def get_similarity_clusters(m_matrix, metric= 'euclidean',gamma = 0.01):\n",
    "    distance = squareform(pdist(m_matrix, metric=metric))\n",
    "    similarity = np.exp(-gamma * distance ** 2)\n",
    "    labels = SpectralClustering(n_clusters=2,random_state=123,affinity='precomputed').fit_predict(similarity)\n",
    "    \n",
    "    new_labels = hierarchical_spectral(m_matrix , labels, metric= 'euclidean',gamma = 0.01)\n",
    "    return new_labels"
   ]
  },
  {
   "cell_type": "code",
   "execution_count": 24,
   "id": "761ec149",
   "metadata": {},
   "outputs": [
    {
     "name": "stdout",
     "output_type": "stream",
     "text": [
      "[0 1] [10  2]\n",
      "Labels to explore:  [0 1]\n",
      "Adding labels and removes current 0. Updated list: [1 2 3]\n",
      "Unique labels [1 2 3] with counts [2 7 3]\n",
      "Labels to explore:  [1 2 3]\n",
      "Small group for 1. Size = 2\n",
      "Removing labels:  [2 3]\n",
      "Labels to explore:  [2 3]\n",
      "We do not accept the new labels. Counts [1 6]\n",
      "Removing labels:  [3]\n",
      "Labels to explore:  [3]\n",
      "Small group for 3. Size = 3\n",
      "Removing labels:  []\n"
     ]
    },
    {
     "name": "stderr",
     "output_type": "stream",
     "text": [
      "/var/folders/hw/d816vr215jzc635m0st0ybyw0000gp/T/ipykernel_36396/682731030.py:2: SettingWithCopyWarning: \n",
      "A value is trying to be set on a copy of a slice from a DataFrame.\n",
      "Try using .loc[row_indexer,col_indexer] = value instead\n",
      "\n",
      "See the caveats in the documentation: https://pandas.pydata.org/pandas-docs/stable/user_guide/indexing.html#returning-a-view-versus-a-copy\n",
      "  df_similar['labels_similarity']  = labels\n"
     ]
    },
    {
     "data": {
      "text/plain": [
       "array([2, 2, 2, 3, 3, 1, 3, 2, 1, 2, 2, 2], dtype=int32)"
      ]
     },
     "execution_count": 24,
     "metadata": {},
     "output_type": "execute_result"
    }
   ],
   "source": [
    "labels = get_similarity_clusters(m_interests , metric= 'euclidean',gamma = 0.01)\n",
    "df_similar['labels_similarity']  = labels\n",
    "labels"
   ]
  },
  {
   "cell_type": "code",
   "execution_count": 25,
   "id": "f0ae7268",
   "metadata": {},
   "outputs": [
    {
     "data": {
      "text/plain": [
       "2    7\n",
       "3    3\n",
       "1    2\n",
       "Name: labels_similarity, dtype: int64"
      ]
     },
     "execution_count": 25,
     "metadata": {},
     "output_type": "execute_result"
    }
   ],
   "source": [
    "df_similar['labels_similarity'].value_counts()"
   ]
  },
  {
   "cell_type": "code",
   "execution_count": 27,
   "id": "74460c67",
   "metadata": {},
   "outputs": [],
   "source": [
    "df_similar_available = df_similar[[\n",
    " 'Mondays (choice=8am-12pm)',\n",
    " 'Mondays (choice=12pm-5pm)',\n",
    " 'Mondays (choice=5pm-8pm)',\n",
    " 'Mondays (choice=No availability)',\n",
    " 'Tuesdays (choice=8am-12pm)',\n",
    " 'Tuesdays (choice=12pm-5pm)',\n",
    " 'Tuesdays (choice=5pm-8pm)',\n",
    " 'Tuesdays (choice=No availability)',\n",
    " 'Wednesdays (choice=8am-12pm)',\n",
    " 'Wednesdays (choice=12pm-5pm)',\n",
    " 'Wednesdays (choice=5pm-8pm)',\n",
    " 'Wednesdays (choice=No availability)',\n",
    " 'Thursdays (choice=8am-12pm)',\n",
    " 'Thursdays (choice=12pm-5pm)',\n",
    " 'Thursdays (choice=5pm-8pm)',\n",
    " 'Thursdays (choice=No availability)',\n",
    " 'Fridays (choice=8am-12pm)',\n",
    " 'Fridays (choice=12pm-5pm)',\n",
    " 'Fridays (choice=5pm-8pm)',\n",
    " 'Fridays (choice=No availability)',\n",
    " 'Saturdays (choice=8am-12pm)',\n",
    " 'Saturdays (choice=12pm-5pm)',\n",
    " 'Saturdays (choice=5pm-8pm)',\n",
    " 'Saturdays (choice=No availability)',\n",
    " 'Sundays (choice=8am-12pm)',\n",
    " 'Sundays (choice=12pm-5pm)',\n",
    " 'Sundays (choice=5pm-8pm)',\n",
    " 'Sundays (choice=No availability)']]\n",
    "\n",
    "df_similar_available = df_similar_available.replace('Unchecked',0).replace('Checked',1)\n",
    "m_available = np.array(df_similar_available)"
   ]
  },
  {
   "cell_type": "code",
   "execution_count": 28,
   "id": "58c20165",
   "metadata": {},
   "outputs": [
    {
     "name": "stdout",
     "output_type": "stream",
     "text": [
      "[1 2 3] [2 7 3]\n",
      "Labels to explore:  [1 2 3]\n",
      "Small group for 1. Size = 2\n",
      "Removing labels:  [2 3]\n",
      "Labels to explore:  [2 3]\n",
      "Adding labels and removes current 2. Updated list: [ 3 10 11]\n",
      "Unique labels [ 1  3 10 11] with counts [2 3 3 4]\n",
      "Labels to explore:  [ 3 10 11]\n",
      "Small group for 3. Size = 3\n",
      "Removing labels:  [10 11]\n",
      "Labels to explore:  [10 11]\n",
      "Small group for 10. Size = 3\n",
      "Removing labels:  [11]\n",
      "Labels to explore:  [11]\n",
      "Adding labels and removes current 11. Updated list: [12 13]\n",
      "Unique labels [ 1  3 10 12 13] with counts [2 3 3 2 2]\n",
      "Labels to explore:  [12 13]\n",
      "Small group for 12. Size = 2\n",
      "Removing labels:  [13]\n",
      "Labels to explore:  [13]\n",
      "Small group for 13. Size = 2\n",
      "Removing labels:  []\n"
     ]
    },
    {
     "name": "stderr",
     "output_type": "stream",
     "text": [
      "/var/folders/hw/d816vr215jzc635m0st0ybyw0000gp/T/ipykernel_36396/2698634447.py:3: SettingWithCopyWarning: \n",
      "A value is trying to be set on a copy of a slice from a DataFrame.\n",
      "Try using .loc[row_indexer,col_indexer] = value instead\n",
      "\n",
      "See the caveats in the documentation: https://pandas.pydata.org/pandas-docs/stable/user_guide/indexing.html#returning-a-view-versus-a-copy\n",
      "  df_similar['available_labels'] = available_labels\n"
     ]
    }
   ],
   "source": [
    "available_labels = hierarchical_spectral(m_available , labels, \n",
    "                                         metric= 'hamming',gamma = 0.01, offset=10)\n",
    "df_similar['available_labels'] = available_labels"
   ]
  },
  {
   "cell_type": "code",
   "execution_count": 37,
   "id": "14fedff3",
   "metadata": {},
   "outputs": [
    {
     "data": {
      "text/plain": [
       "10    3\n",
       "3     3\n",
       "12    2\n",
       "1     2\n",
       "13    2\n",
       "Name: available_labels, dtype: int64"
      ]
     },
     "execution_count": 37,
     "metadata": {},
     "output_type": "execute_result"
    }
   ],
   "source": [
    "df_similar['available_labels'].value_counts()"
   ]
  },
  {
   "cell_type": "code",
   "execution_count": 38,
   "id": "0cc2c7e5",
   "metadata": {},
   "outputs": [
    {
     "data": {
      "text/html": [
       "<div>\n",
       "<style scoped>\n",
       "    .dataframe tbody tr th:only-of-type {\n",
       "        vertical-align: middle;\n",
       "    }\n",
       "\n",
       "    .dataframe tbody tr th {\n",
       "        vertical-align: top;\n",
       "    }\n",
       "\n",
       "    .dataframe thead th {\n",
       "        text-align: right;\n",
       "    }\n",
       "</style>\n",
       "<table border=\"1\" class=\"dataframe\">\n",
       "  <thead>\n",
       "    <tr style=\"text-align: right;\">\n",
       "      <th></th>\n",
       "      <th>treatment</th>\n",
       "      <th>available_labels</th>\n",
       "      <th>labels_similarity</th>\n",
       "      <th>Record ID</th>\n",
       "    </tr>\n",
       "  </thead>\n",
       "  <tbody>\n",
       "    <tr>\n",
       "      <th>19</th>\n",
       "      <td>1</td>\n",
       "      <td>10</td>\n",
       "      <td>2</td>\n",
       "      <td>20</td>\n",
       "    </tr>\n",
       "    <tr>\n",
       "      <th>23</th>\n",
       "      <td>1</td>\n",
       "      <td>10</td>\n",
       "      <td>2</td>\n",
       "      <td>24</td>\n",
       "    </tr>\n",
       "    <tr>\n",
       "      <th>24</th>\n",
       "      <td>1</td>\n",
       "      <td>12</td>\n",
       "      <td>2</td>\n",
       "      <td>25</td>\n",
       "    </tr>\n",
       "    <tr>\n",
       "      <th>28</th>\n",
       "      <td>1</td>\n",
       "      <td>3</td>\n",
       "      <td>3</td>\n",
       "      <td>29</td>\n",
       "    </tr>\n",
       "    <tr>\n",
       "      <th>29</th>\n",
       "      <td>1</td>\n",
       "      <td>3</td>\n",
       "      <td>3</td>\n",
       "      <td>30</td>\n",
       "    </tr>\n",
       "    <tr>\n",
       "      <th>30</th>\n",
       "      <td>1</td>\n",
       "      <td>1</td>\n",
       "      <td>1</td>\n",
       "      <td>31</td>\n",
       "    </tr>\n",
       "    <tr>\n",
       "      <th>34</th>\n",
       "      <td>1</td>\n",
       "      <td>3</td>\n",
       "      <td>3</td>\n",
       "      <td>35</td>\n",
       "    </tr>\n",
       "    <tr>\n",
       "      <th>35</th>\n",
       "      <td>1</td>\n",
       "      <td>13</td>\n",
       "      <td>2</td>\n",
       "      <td>36</td>\n",
       "    </tr>\n",
       "    <tr>\n",
       "      <th>39</th>\n",
       "      <td>1</td>\n",
       "      <td>1</td>\n",
       "      <td>1</td>\n",
       "      <td>40</td>\n",
       "    </tr>\n",
       "    <tr>\n",
       "      <th>41</th>\n",
       "      <td>1</td>\n",
       "      <td>10</td>\n",
       "      <td>2</td>\n",
       "      <td>42</td>\n",
       "    </tr>\n",
       "    <tr>\n",
       "      <th>44</th>\n",
       "      <td>1</td>\n",
       "      <td>12</td>\n",
       "      <td>2</td>\n",
       "      <td>45</td>\n",
       "    </tr>\n",
       "    <tr>\n",
       "      <th>45</th>\n",
       "      <td>1</td>\n",
       "      <td>13</td>\n",
       "      <td>2</td>\n",
       "      <td>46</td>\n",
       "    </tr>\n",
       "  </tbody>\n",
       "</table>\n",
       "</div>"
      ],
      "text/plain": [
       "    treatment  available_labels  labels_similarity  Record ID\n",
       "19          1                10                  2         20\n",
       "23          1                10                  2         24\n",
       "24          1                12                  2         25\n",
       "28          1                 3                  3         29\n",
       "29          1                 3                  3         30\n",
       "30          1                 1                  1         31\n",
       "34          1                 3                  3         35\n",
       "35          1                13                  2         36\n",
       "39          1                 1                  1         40\n",
       "41          1                10                  2         42\n",
       "44          1                12                  2         45\n",
       "45          1                13                  2         46"
      ]
     },
     "execution_count": 38,
     "metadata": {},
     "output_type": "execute_result"
    }
   ],
   "source": [
    "df_similar[['treatment', 'available_labels','labels_similarity','Record ID']]"
   ]
  },
  {
   "cell_type": "code",
   "execution_count": 39,
   "id": "e8f20631",
   "metadata": {},
   "outputs": [
    {
     "data": {
      "text/plain": [
       "available_labels\n",
       "3                   3\n",
       "10                  3\n",
       "1                   2\n",
       "12                  2\n",
       "13                  2\n",
       "dtype: int64"
      ]
     },
     "execution_count": 39,
     "metadata": {},
     "output_type": "execute_result"
    }
   ],
   "source": [
    "df_similar[['available_labels']].value_counts()"
   ]
  },
  {
   "cell_type": "markdown",
   "id": "9061726b",
   "metadata": {},
   "source": [
    "## Complementary"
   ]
  },
  {
   "cell_type": "code",
   "execution_count": 43,
   "id": "f35bafac",
   "metadata": {},
   "outputs": [
    {
     "data": {
      "text/plain": [
       "16"
      ]
     },
     "execution_count": 43,
     "metadata": {},
     "output_type": "execute_result"
    }
   ],
   "source": [
    "## Similarity \n",
    "df_comp = df_translated[df_translated['treatment']==0]\n",
    "len(df_comp)"
   ]
  },
  {
   "cell_type": "code",
   "execution_count": 44,
   "id": "b2b02581",
   "metadata": {},
   "outputs": [],
   "source": [
    "m_comp_interest =  np.array(df_comp[['Conducting difficult conversations.1',\n",
    " 'Giving understandable and convincing presentations.1',\n",
    " 'Preparing and conducting negotiations.1',\n",
    " 'Nudging development with feedback.1',\n",
    " 'Onboarding new team members and integrating them into the team.1',\n",
    " 'Leading teams through organizational change.1',\n",
    " 'Dealing with staff and skill shortages',\n",
    " 'Addressing and resolving team conflicts.1',\n",
    " 'Finding information efficiently from trusted sources on the Internet.1',\n",
    " 'Facilitating virtual workshops.1',\n",
    " 'Effective virtual team collaboration.1',\n",
    " 'Maintain and expand professional network online.1']].fillna(-1))\n",
    "\n",
    "m_comp_strenghts = np.array(df_comp[['Conduct Difficult Conversations',\n",
    " 'Giving Understandable and Persuasive Presentations',\n",
    " 'Preparing and conducting negotiations',\n",
    " 'Nudging development with feedback',\n",
    " 'Onboarding new team members and integrating them into the team',\n",
    " 'Leading teams through organizational change',\n",
    " 'Dealing with staff/skill shortages',\n",
    " 'Addressing and resolving team conflicts',\n",
    " 'Finding information efficiently from trusted sources on the Internet',\n",
    " 'Facilitating virtual workshops',\n",
    " 'Effective virtual team collaboration',\n",
    " 'Maintaining and expanding professional network online']].fillna(-1))"
   ]
  },
  {
   "cell_type": "code",
   "execution_count": 48,
   "id": "ff789dbc",
   "metadata": {},
   "outputs": [],
   "source": [
    "from scipy.spatial import distance\n",
    "\n",
    "\n",
    "def get_distance_matrix(m_aux_strenghts, m_aux_interest):\n",
    "    num_participants = m_aux_strenghts.shape[0]\n",
    "    print(f\" participants {num_participants}\")\n",
    "    # create matrix\n",
    "    distance_results = np.zeros([num_participants,num_participants], dtype=np.float64)\n",
    "    for i in range(num_participants):\n",
    "        # get interest and strength\n",
    "        interest_i = m_aux_interest[i]\n",
    "        strength_i = m_aux_strenghts[i]\n",
    "        for j in range(i+1, num_participants):\n",
    "                strength_j = m_aux_strenghts[j]\n",
    "                interest_j = m_aux_interest[j]\n",
    "                dist_a = distance.euclidean(interest_i, strength_j)\n",
    "                dist_b = distance.euclidean(interest_j, strength_i)\n",
    "                dist = np.mean([dist_a, dist_b])\n",
    "                distance_results[i,j] = dist\n",
    "                distance_results[j,i] = dist\n",
    "    return distance_results\n",
    "\n",
    "def get_labels_comp(m_aux_strenghts, m_aux_interest, metric= 'euclidean',gamma = 0.01):\n",
    "    distance_matrix_comp = get_distance_matrix(m_aux_strenghts, m_aux_interest)\n",
    "    similarity = np.exp(-gamma * distance_matrix_comp ** 2)\n",
    "    labels = SpectralClustering(n_clusters=2,random_state=123,affinity='precomputed').fit_predict(similarity)\n",
    "    return labels\n",
    "\n",
    "def hierarchical_spectral_comp(m_comp_strenghts, m_comp_interest , labels, \n",
    "                               metric= 'euclidean',gamma = 0.01, offset_num = 2 ):    \n",
    "    offset = offset_num\n",
    "    unique_labels, counts_labels = np.unique(labels, return_counts=True)\n",
    "    print(unique_labels, counts_labels)\n",
    "    labels_to_explore = unique_labels\n",
    "\n",
    "    while len(labels_to_explore)>= 1:\n",
    "        print('Labels to explore: ', labels_to_explore)\n",
    "        i = labels_to_explore[0]\n",
    "        mask = labels==i\n",
    "        print(f\"labels {labels}\")\n",
    "        size = np.sum(mask)\n",
    "        print(f'Exploring label {i}, with size {size}')\n",
    "        if size >= 4:\n",
    "            # see if we can split\n",
    "            m_aux_strenghts = m_comp_strenghts[mask]\n",
    "            m_aux_interest = m_comp_interest[mask]\n",
    "            \n",
    "            new_labels = get_labels_comp(m_aux_strenghts, m_aux_interest, metric, gamma) + offset\n",
    "            new_unique_labels, new_counts_labels = np.unique(new_labels, return_counts=True)\n",
    "            \n",
    "            if np.min(new_counts_labels)>=2:\n",
    "                # We acept the clustering, we upload the labels \n",
    "                labels[mask] = new_labels \n",
    "                offset += 2 # We move the offset\n",
    "                # We add the new labels as labels to explore to the list\n",
    "                labels_to_explore = np.union1d(labels_to_explore, np.unique(new_labels))\n",
    "                labels_to_explore = np.setdiff1d(labels_to_explore, np.array([i]))\n",
    "                print(f'Adding labels and removes current {i}. Updated list: {labels_to_explore}')\n",
    "                unique_labels, counts_labels = np.unique(labels, return_counts=True)\n",
    "                print(f\"Unique labels {unique_labels} with counts {counts_labels}\")\n",
    "            else:\n",
    "                # We do not accept, keep the group as it is. Not divisible. \n",
    "                labels_to_explore = np.setdiff1d(labels_to_explore, np.array([i]))\n",
    "                print(f\"We do not accept the new labels. Counts {new_counts_labels}\")\n",
    "                print('Removing labels: ', labels_to_explore)\n",
    "        else:\n",
    "            labels_to_explore = np.setdiff1d(labels_to_explore, np.array([i]))\n",
    "            print(f\"Small group for {i}. Size = {size}\")\n",
    "            print('Removing labels: ', labels_to_explore)\n",
    "\n",
    "\n",
    "    return labels\n",
    "\n"
   ]
  },
  {
   "cell_type": "code",
   "execution_count": 49,
   "id": "516f8baf",
   "metadata": {},
   "outputs": [],
   "source": [
    "\n",
    "        \n",
    "def get_contrasting_clusters(m_comp_strenghts, m_comp_interest, metric= 'euclidean',gamma = 0.01):\n",
    "    distance_matrix = get_distance_matrix(m_comp_strenghts, m_comp_interest)\n",
    "    similarity = np.exp(-gamma * distance_matrix ** 2)\n",
    "    labels = SpectralClustering(n_clusters=2,random_state=123,affinity='precomputed').fit_predict(similarity)\n",
    "    \n",
    "    new_labels = hierarchical_spectral_comp(m_comp_strenghts, m_comp_interest , labels, metric= 'euclidean',gamma = 0.01)\n",
    "    return new_labels"
   ]
  },
  {
   "cell_type": "code",
   "execution_count": 50,
   "id": "784487d6",
   "metadata": {},
   "outputs": [
    {
     "name": "stdout",
     "output_type": "stream",
     "text": [
      " participants 16\n",
      "[0 1] [12  4]\n",
      "Labels to explore:  [0 1]\n",
      "labels [0 0 1 0 0 1 0 0 0 0 0 0 0 1 0 1]\n",
      "Exploring label 0, with size 12\n",
      " participants 12\n",
      "Adding labels and removes current 0. Updated list: [1 2 3]\n",
      "Unique labels [1 2 3] with counts [4 9 3]\n",
      "Labels to explore:  [1 2 3]\n",
      "labels [2 2 1 3 2 1 2 2 3 2 3 2 2 1 2 1]\n",
      "Exploring label 1, with size 4\n",
      " participants 4\n",
      "Adding labels and removes current 1. Updated list: [2 3 4 5]\n",
      "Unique labels [2 3 4 5] with counts [9 3 2 2]\n",
      "Labels to explore:  [2 3 4 5]\n",
      "labels [2 2 5 3 2 5 2 2 3 2 3 2 2 4 2 4]\n",
      "Exploring label 2, with size 9\n",
      " participants 9\n",
      "Adding labels and removes current 2. Updated list: [3 4 5 6 7]\n",
      "Unique labels [3 4 5 6 7] with counts [3 2 2 5 4]\n",
      "Labels to explore:  [3 4 5 6 7]\n",
      "labels [6 7 5 3 6 5 7 7 3 7 3 6 6 4 6 4]\n",
      "Exploring label 3, with size 3\n",
      "Small group for 3. Size = 3\n",
      "Removing labels:  [4 5 6 7]\n",
      "Labels to explore:  [4 5 6 7]\n",
      "labels [6 7 5 3 6 5 7 7 3 7 3 6 6 4 6 4]\n",
      "Exploring label 4, with size 2\n",
      "Small group for 4. Size = 2\n",
      "Removing labels:  [5 6 7]\n",
      "Labels to explore:  [5 6 7]\n",
      "labels [6 7 5 3 6 5 7 7 3 7 3 6 6 4 6 4]\n",
      "Exploring label 5, with size 2\n",
      "Small group for 5. Size = 2\n",
      "Removing labels:  [6 7]\n",
      "Labels to explore:  [6 7]\n",
      "labels [6 7 5 3 6 5 7 7 3 7 3 6 6 4 6 4]\n",
      "Exploring label 6, with size 5\n",
      " participants 5\n",
      "We do not accept the new labels. Counts [4 1]\n",
      "Removing labels:  [7]\n",
      "Labels to explore:  [7]\n",
      "labels [6 7 5 3 6 5 7 7 3 7 3 6 6 4 6 4]\n",
      "Exploring label 7, with size 4\n",
      " participants 4\n",
      "We do not accept the new labels. Counts [1 3]\n",
      "Removing labels:  []\n"
     ]
    }
   ],
   "source": [
    "labels = get_contrasting_clusters(m_comp_strenghts, m_comp_interest, metric= 'euclidean',gamma = 0.01)"
   ]
  },
  {
   "cell_type": "code",
   "execution_count": 51,
   "id": "c614f026",
   "metadata": {},
   "outputs": [
    {
     "data": {
      "text/plain": [
       "16"
      ]
     },
     "execution_count": 51,
     "metadata": {},
     "output_type": "execute_result"
    }
   ],
   "source": [
    "len(labels)"
   ]
  },
  {
   "cell_type": "code",
   "execution_count": 52,
   "id": "f84e4863",
   "metadata": {},
   "outputs": [
    {
     "name": "stderr",
     "output_type": "stream",
     "text": [
      "/var/folders/hw/d816vr215jzc635m0st0ybyw0000gp/T/ipykernel_36396/450128056.py:1: SettingWithCopyWarning: \n",
      "A value is trying to be set on a copy of a slice from a DataFrame.\n",
      "Try using .loc[row_indexer,col_indexer] = value instead\n",
      "\n",
      "See the caveats in the documentation: https://pandas.pydata.org/pandas-docs/stable/user_guide/indexing.html#returning-a-view-versus-a-copy\n",
      "  df_comp['labels_complementary']  = labels\n"
     ]
    },
    {
     "data": {
      "text/plain": [
       "array([6, 7, 5, 3, 6, 5, 7, 7, 3, 7, 3, 6, 6, 4, 6, 4], dtype=int32)"
      ]
     },
     "execution_count": 52,
     "metadata": {},
     "output_type": "execute_result"
    }
   ],
   "source": [
    "df_comp['labels_complementary']  = labels\n",
    "labels"
   ]
  },
  {
   "cell_type": "code",
   "execution_count": 53,
   "id": "7672ffc3",
   "metadata": {},
   "outputs": [
    {
     "data": {
      "text/plain": [
       "6    5\n",
       "7    4\n",
       "3    3\n",
       "5    2\n",
       "4    2\n",
       "Name: labels_complementary, dtype: int64"
      ]
     },
     "execution_count": 53,
     "metadata": {},
     "output_type": "execute_result"
    }
   ],
   "source": [
    "df_comp['labels_complementary'].value_counts()"
   ]
  },
  {
   "cell_type": "code",
   "execution_count": 55,
   "id": "eafaf400",
   "metadata": {},
   "outputs": [],
   "source": [
    "df_comp_available = df_comp[[\n",
    " 'Mondays (choice=8am-12pm)',\n",
    " 'Mondays (choice=12pm-5pm)',\n",
    " 'Mondays (choice=5pm-8pm)',\n",
    " 'Mondays (choice=No availability)',\n",
    " 'Tuesdays (choice=8am-12pm)',\n",
    " 'Tuesdays (choice=12pm-5pm)',\n",
    " 'Tuesdays (choice=5pm-8pm)',\n",
    " 'Tuesdays (choice=No availability)',\n",
    " 'Wednesdays (choice=8am-12pm)',\n",
    " 'Wednesdays (choice=12pm-5pm)',\n",
    " 'Wednesdays (choice=5pm-8pm)',\n",
    " 'Wednesdays (choice=No availability)',\n",
    " 'Thursdays (choice=8am-12pm)',\n",
    " 'Thursdays (choice=12pm-5pm)',\n",
    " 'Thursdays (choice=5pm-8pm)',\n",
    " 'Thursdays (choice=No availability)',\n",
    " 'Fridays (choice=8am-12pm)',\n",
    " 'Fridays (choice=12pm-5pm)',\n",
    " 'Fridays (choice=5pm-8pm)',\n",
    " 'Fridays (choice=No availability)',\n",
    " 'Saturdays (choice=8am-12pm)',\n",
    " 'Saturdays (choice=12pm-5pm)',\n",
    " 'Saturdays (choice=5pm-8pm)',\n",
    " 'Saturdays (choice=No availability)',\n",
    " 'Sundays (choice=8am-12pm)',\n",
    " 'Sundays (choice=12pm-5pm)',\n",
    " 'Sundays (choice=5pm-8pm)',\n",
    " 'Sundays (choice=No availability)']]\n",
    "\n",
    "df_comp_available = df_comp_available.replace('Unchecked',0).replace('Checked',1)\n",
    "m_available_comp = np.array(df_comp_available)"
   ]
  },
  {
   "cell_type": "code",
   "execution_count": 56,
   "id": "4c93572b",
   "metadata": {},
   "outputs": [
    {
     "name": "stdout",
     "output_type": "stream",
     "text": [
      "[3 4 5 6 7] [3 2 2 5 4]\n",
      "Labels to explore:  [3 4 5 6 7]\n",
      "Small group for 3. Size = 3\n",
      "Removing labels:  [4 5 6 7]\n",
      "Labels to explore:  [4 5 6 7]\n",
      "Small group for 4. Size = 2\n",
      "Removing labels:  [5 6 7]\n",
      "Labels to explore:  [5 6 7]\n",
      "Small group for 5. Size = 2\n",
      "Removing labels:  [6 7]\n",
      "Labels to explore:  [6 7]\n",
      "Adding labels and removes current 6. Updated list: [ 7 10 11]\n",
      "Unique labels [ 3  4  5  7 10 11] with counts [3 2 2 4 3 2]\n",
      "Labels to explore:  [ 7 10 11]\n",
      "We do not accept the new labels. Counts [3 1]\n",
      "Removing labels:  [10 11]\n",
      "Labels to explore:  [10 11]\n",
      "Small group for 10. Size = 3\n",
      "Removing labels:  [11]\n",
      "Labels to explore:  [11]\n",
      "Small group for 11. Size = 2\n",
      "Removing labels:  []\n"
     ]
    },
    {
     "name": "stderr",
     "output_type": "stream",
     "text": [
      "/var/folders/hw/d816vr215jzc635m0st0ybyw0000gp/T/ipykernel_36396/479710482.py:3: SettingWithCopyWarning: \n",
      "A value is trying to be set on a copy of a slice from a DataFrame.\n",
      "Try using .loc[row_indexer,col_indexer] = value instead\n",
      "\n",
      "See the caveats in the documentation: https://pandas.pydata.org/pandas-docs/stable/user_guide/indexing.html#returning-a-view-versus-a-copy\n",
      "  df_comp['available_labels'] = available_labels\n"
     ]
    }
   ],
   "source": [
    "available_labels = hierarchical_spectral(m_available_comp , labels, \n",
    "                                         metric= 'hamming',gamma = 0.01, offset=10)\n",
    "df_comp['available_labels'] = available_labels"
   ]
  },
  {
   "cell_type": "code",
   "execution_count": 58,
   "id": "22c06755",
   "metadata": {},
   "outputs": [
    {
     "data": {
      "text/plain": [
       "7     4\n",
       "10    3\n",
       "3     3\n",
       "5     2\n",
       "11    2\n",
       "4     2\n",
       "Name: available_labels, dtype: int64"
      ]
     },
     "execution_count": 58,
     "metadata": {},
     "output_type": "execute_result"
    }
   ],
   "source": [
    "df_comp['available_labels'].value_counts()"
   ]
  },
  {
   "cell_type": "code",
   "execution_count": 59,
   "id": "a5702f72",
   "metadata": {},
   "outputs": [
    {
     "data": {
      "text/html": [
       "<div>\n",
       "<style scoped>\n",
       "    .dataframe tbody tr th:only-of-type {\n",
       "        vertical-align: middle;\n",
       "    }\n",
       "\n",
       "    .dataframe tbody tr th {\n",
       "        vertical-align: top;\n",
       "    }\n",
       "\n",
       "    .dataframe thead th {\n",
       "        text-align: right;\n",
       "    }\n",
       "</style>\n",
       "<table border=\"1\" class=\"dataframe\">\n",
       "  <thead>\n",
       "    <tr style=\"text-align: right;\">\n",
       "      <th></th>\n",
       "      <th>treatment</th>\n",
       "      <th>available_labels</th>\n",
       "      <th>labels_similarity</th>\n",
       "      <th>Record ID</th>\n",
       "    </tr>\n",
       "  </thead>\n",
       "  <tbody>\n",
       "    <tr>\n",
       "      <th>19</th>\n",
       "      <td>1</td>\n",
       "      <td>10</td>\n",
       "      <td>2</td>\n",
       "      <td>20</td>\n",
       "    </tr>\n",
       "    <tr>\n",
       "      <th>23</th>\n",
       "      <td>1</td>\n",
       "      <td>10</td>\n",
       "      <td>2</td>\n",
       "      <td>24</td>\n",
       "    </tr>\n",
       "  </tbody>\n",
       "</table>\n",
       "</div>"
      ],
      "text/plain": [
       "    treatment  available_labels  labels_similarity  Record ID\n",
       "19          1                10                  2         20\n",
       "23          1                10                  2         24"
      ]
     },
     "execution_count": 59,
     "metadata": {},
     "output_type": "execute_result"
    }
   ],
   "source": [
    "df_similar[['treatment', 'available_labels','labels_similarity','Record ID']].head(2)"
   ]
  },
  {
   "cell_type": "code",
   "execution_count": 60,
   "id": "ecdecb8c",
   "metadata": {},
   "outputs": [
    {
     "name": "stderr",
     "output_type": "stream",
     "text": [
      "/var/folders/hw/d816vr215jzc635m0st0ybyw0000gp/T/ipykernel_36396/3516510225.py:1: SettingWithCopyWarning: \n",
      "A value is trying to be set on a copy of a slice from a DataFrame.\n",
      "Try using .loc[row_indexer,col_indexer] = value instead\n",
      "\n",
      "See the caveats in the documentation: https://pandas.pydata.org/pandas-docs/stable/user_guide/indexing.html#returning-a-view-versus-a-copy\n",
      "  df_similar['study_group'] = df_similar['available_labels'] + 1000\n"
     ]
    }
   ],
   "source": [
    "df_similar['study_group'] = df_similar['available_labels'] + 1000 "
   ]
  },
  {
   "cell_type": "code",
   "execution_count": 61,
   "id": "a10ab46d",
   "metadata": {},
   "outputs": [
    {
     "data": {
      "text/html": [
       "<div>\n",
       "<style scoped>\n",
       "    .dataframe tbody tr th:only-of-type {\n",
       "        vertical-align: middle;\n",
       "    }\n",
       "\n",
       "    .dataframe tbody tr th {\n",
       "        vertical-align: top;\n",
       "    }\n",
       "\n",
       "    .dataframe thead th {\n",
       "        text-align: right;\n",
       "    }\n",
       "</style>\n",
       "<table border=\"1\" class=\"dataframe\">\n",
       "  <thead>\n",
       "    <tr style=\"text-align: right;\">\n",
       "      <th></th>\n",
       "      <th>treatment</th>\n",
       "      <th>available_labels</th>\n",
       "      <th>labels_complementary</th>\n",
       "      <th>Record ID</th>\n",
       "    </tr>\n",
       "  </thead>\n",
       "  <tbody>\n",
       "    <tr>\n",
       "      <th>18</th>\n",
       "      <td>0</td>\n",
       "      <td>10</td>\n",
       "      <td>6</td>\n",
       "      <td>19</td>\n",
       "    </tr>\n",
       "    <tr>\n",
       "      <th>22</th>\n",
       "      <td>0</td>\n",
       "      <td>7</td>\n",
       "      <td>7</td>\n",
       "      <td>23</td>\n",
       "    </tr>\n",
       "  </tbody>\n",
       "</table>\n",
       "</div>"
      ],
      "text/plain": [
       "    treatment  available_labels  labels_complementary  Record ID\n",
       "18          0                10                     6         19\n",
       "22          0                 7                     7         23"
      ]
     },
     "execution_count": 61,
     "metadata": {},
     "output_type": "execute_result"
    }
   ],
   "source": [
    "df_comp[['treatment', 'available_labels','labels_complementary','Record ID']].head(2)"
   ]
  },
  {
   "cell_type": "code",
   "execution_count": 62,
   "id": "0106deca",
   "metadata": {},
   "outputs": [
    {
     "name": "stderr",
     "output_type": "stream",
     "text": [
      "/var/folders/hw/d816vr215jzc635m0st0ybyw0000gp/T/ipykernel_36396/1599837169.py:1: SettingWithCopyWarning: \n",
      "A value is trying to be set on a copy of a slice from a DataFrame.\n",
      "Try using .loc[row_indexer,col_indexer] = value instead\n",
      "\n",
      "See the caveats in the documentation: https://pandas.pydata.org/pandas-docs/stable/user_guide/indexing.html#returning-a-view-versus-a-copy\n",
      "  df_comp['study_group'] = df_comp['available_labels'] + 2000\n"
     ]
    }
   ],
   "source": [
    "df_comp['study_group'] = df_comp['available_labels'] + 2000 "
   ]
  },
  {
   "cell_type": "code",
   "execution_count": 63,
   "id": "56bc61b7",
   "metadata": {},
   "outputs": [],
   "source": [
    "df_groups = pd.concat([df_comp[['treatment', 'study_group','Record ID']], df_similar[['treatment', 'study_group','Record ID']]], axis=0)"
   ]
  },
  {
   "cell_type": "code",
   "execution_count": 64,
   "id": "467956f9",
   "metadata": {},
   "outputs": [],
   "source": [
    "df_groups['treatment'] = df_groups['treatment'].replace(0, 'complementary').replace(1, 'similar')"
   ]
  },
  {
   "cell_type": "code",
   "execution_count": 65,
   "id": "66f04c53",
   "metadata": {},
   "outputs": [
    {
     "data": {
      "text/html": [
       "<div>\n",
       "<style scoped>\n",
       "    .dataframe tbody tr th:only-of-type {\n",
       "        vertical-align: middle;\n",
       "    }\n",
       "\n",
       "    .dataframe tbody tr th {\n",
       "        vertical-align: top;\n",
       "    }\n",
       "\n",
       "    .dataframe thead th {\n",
       "        text-align: right;\n",
       "    }\n",
       "</style>\n",
       "<table border=\"1\" class=\"dataframe\">\n",
       "  <thead>\n",
       "    <tr style=\"text-align: right;\">\n",
       "      <th></th>\n",
       "      <th>treatment</th>\n",
       "      <th>study_group</th>\n",
       "      <th>Record ID</th>\n",
       "    </tr>\n",
       "  </thead>\n",
       "  <tbody>\n",
       "    <tr>\n",
       "      <th>39</th>\n",
       "      <td>similar</td>\n",
       "      <td>1001</td>\n",
       "      <td>40</td>\n",
       "    </tr>\n",
       "    <tr>\n",
       "      <th>30</th>\n",
       "      <td>similar</td>\n",
       "      <td>1001</td>\n",
       "      <td>31</td>\n",
       "    </tr>\n",
       "    <tr>\n",
       "      <th>34</th>\n",
       "      <td>similar</td>\n",
       "      <td>1003</td>\n",
       "      <td>35</td>\n",
       "    </tr>\n",
       "    <tr>\n",
       "      <th>29</th>\n",
       "      <td>similar</td>\n",
       "      <td>1003</td>\n",
       "      <td>30</td>\n",
       "    </tr>\n",
       "    <tr>\n",
       "      <th>28</th>\n",
       "      <td>similar</td>\n",
       "      <td>1003</td>\n",
       "      <td>29</td>\n",
       "    </tr>\n",
       "    <tr>\n",
       "      <th>41</th>\n",
       "      <td>similar</td>\n",
       "      <td>1010</td>\n",
       "      <td>42</td>\n",
       "    </tr>\n",
       "    <tr>\n",
       "      <th>23</th>\n",
       "      <td>similar</td>\n",
       "      <td>1010</td>\n",
       "      <td>24</td>\n",
       "    </tr>\n",
       "    <tr>\n",
       "      <th>19</th>\n",
       "      <td>similar</td>\n",
       "      <td>1010</td>\n",
       "      <td>20</td>\n",
       "    </tr>\n",
       "    <tr>\n",
       "      <th>24</th>\n",
       "      <td>similar</td>\n",
       "      <td>1012</td>\n",
       "      <td>25</td>\n",
       "    </tr>\n",
       "    <tr>\n",
       "      <th>44</th>\n",
       "      <td>similar</td>\n",
       "      <td>1012</td>\n",
       "      <td>45</td>\n",
       "    </tr>\n",
       "    <tr>\n",
       "      <th>45</th>\n",
       "      <td>similar</td>\n",
       "      <td>1013</td>\n",
       "      <td>46</td>\n",
       "    </tr>\n",
       "    <tr>\n",
       "      <th>35</th>\n",
       "      <td>similar</td>\n",
       "      <td>1013</td>\n",
       "      <td>36</td>\n",
       "    </tr>\n",
       "    <tr>\n",
       "      <th>27</th>\n",
       "      <td>complementary</td>\n",
       "      <td>2003</td>\n",
       "      <td>28</td>\n",
       "    </tr>\n",
       "    <tr>\n",
       "      <th>37</th>\n",
       "      <td>complementary</td>\n",
       "      <td>2003</td>\n",
       "      <td>38</td>\n",
       "    </tr>\n",
       "    <tr>\n",
       "      <th>40</th>\n",
       "      <td>complementary</td>\n",
       "      <td>2003</td>\n",
       "      <td>41</td>\n",
       "    </tr>\n",
       "    <tr>\n",
       "      <th>46</th>\n",
       "      <td>complementary</td>\n",
       "      <td>2004</td>\n",
       "      <td>47</td>\n",
       "    </tr>\n",
       "    <tr>\n",
       "      <th>49</th>\n",
       "      <td>complementary</td>\n",
       "      <td>2004</td>\n",
       "      <td>50</td>\n",
       "    </tr>\n",
       "    <tr>\n",
       "      <th>32</th>\n",
       "      <td>complementary</td>\n",
       "      <td>2005</td>\n",
       "      <td>33</td>\n",
       "    </tr>\n",
       "    <tr>\n",
       "      <th>26</th>\n",
       "      <td>complementary</td>\n",
       "      <td>2005</td>\n",
       "      <td>27</td>\n",
       "    </tr>\n",
       "    <tr>\n",
       "      <th>38</th>\n",
       "      <td>complementary</td>\n",
       "      <td>2007</td>\n",
       "      <td>39</td>\n",
       "    </tr>\n",
       "    <tr>\n",
       "      <th>36</th>\n",
       "      <td>complementary</td>\n",
       "      <td>2007</td>\n",
       "      <td>37</td>\n",
       "    </tr>\n",
       "    <tr>\n",
       "      <th>33</th>\n",
       "      <td>complementary</td>\n",
       "      <td>2007</td>\n",
       "      <td>34</td>\n",
       "    </tr>\n",
       "    <tr>\n",
       "      <th>22</th>\n",
       "      <td>complementary</td>\n",
       "      <td>2007</td>\n",
       "      <td>23</td>\n",
       "    </tr>\n",
       "    <tr>\n",
       "      <th>43</th>\n",
       "      <td>complementary</td>\n",
       "      <td>2010</td>\n",
       "      <td>44</td>\n",
       "    </tr>\n",
       "    <tr>\n",
       "      <th>42</th>\n",
       "      <td>complementary</td>\n",
       "      <td>2010</td>\n",
       "      <td>43</td>\n",
       "    </tr>\n",
       "    <tr>\n",
       "      <th>18</th>\n",
       "      <td>complementary</td>\n",
       "      <td>2010</td>\n",
       "      <td>19</td>\n",
       "    </tr>\n",
       "    <tr>\n",
       "      <th>48</th>\n",
       "      <td>complementary</td>\n",
       "      <td>2011</td>\n",
       "      <td>49</td>\n",
       "    </tr>\n",
       "    <tr>\n",
       "      <th>31</th>\n",
       "      <td>complementary</td>\n",
       "      <td>2011</td>\n",
       "      <td>32</td>\n",
       "    </tr>\n",
       "  </tbody>\n",
       "</table>\n",
       "</div>"
      ],
      "text/plain": [
       "        treatment  study_group  Record ID\n",
       "39        similar         1001         40\n",
       "30        similar         1001         31\n",
       "34        similar         1003         35\n",
       "29        similar         1003         30\n",
       "28        similar         1003         29\n",
       "41        similar         1010         42\n",
       "23        similar         1010         24\n",
       "19        similar         1010         20\n",
       "24        similar         1012         25\n",
       "44        similar         1012         45\n",
       "45        similar         1013         46\n",
       "35        similar         1013         36\n",
       "27  complementary         2003         28\n",
       "37  complementary         2003         38\n",
       "40  complementary         2003         41\n",
       "46  complementary         2004         47\n",
       "49  complementary         2004         50\n",
       "32  complementary         2005         33\n",
       "26  complementary         2005         27\n",
       "38  complementary         2007         39\n",
       "36  complementary         2007         37\n",
       "33  complementary         2007         34\n",
       "22  complementary         2007         23\n",
       "43  complementary         2010         44\n",
       "42  complementary         2010         43\n",
       "18  complementary         2010         19\n",
       "48  complementary         2011         49\n",
       "31  complementary         2011         32"
      ]
     },
     "execution_count": 65,
     "metadata": {},
     "output_type": "execute_result"
    }
   ],
   "source": [
    "# add a column with number of members per team\n",
    "df_groups.sort_values('study_group')"
   ]
  },
  {
   "cell_type": "code",
   "execution_count": 66,
   "id": "52fa7fa8",
   "metadata": {},
   "outputs": [
    {
     "data": {
      "text/plain": [
       "2007    4\n",
       "2010    3\n",
       "2003    3\n",
       "1010    3\n",
       "1003    3\n",
       "2005    2\n",
       "2011    2\n",
       "2004    2\n",
       "1012    2\n",
       "1001    2\n",
       "1013    2\n",
       "Name: study_group, dtype: int64"
      ]
     },
     "execution_count": 66,
     "metadata": {},
     "output_type": "execute_result"
    }
   ],
   "source": [
    "df_groups['study_group'].value_counts()"
   ]
  },
  {
   "cell_type": "code",
   "execution_count": 67,
   "id": "40263c8f",
   "metadata": {},
   "outputs": [
    {
     "data": {
      "text/plain": [
       "complementary    16\n",
       "similar          12\n",
       "Name: treatment, dtype: int64"
      ]
     },
     "execution_count": 67,
     "metadata": {},
     "output_type": "execute_result"
    }
   ],
   "source": [
    "df_groups['treatment'].value_counts()"
   ]
  }
 ],
 "metadata": {
  "kernelspec": {
   "display_name": "Python 3 (ipykernel)",
   "language": "python",
   "name": "python3"
  },
  "language_info": {
   "codemirror_mode": {
    "name": "ipython",
    "version": 3
   },
   "file_extension": ".py",
   "mimetype": "text/x-python",
   "name": "python",
   "nbconvert_exporter": "python",
   "pygments_lexer": "ipython3",
   "version": "3.8.8"
  }
 },
 "nbformat": 4,
 "nbformat_minor": 5
}

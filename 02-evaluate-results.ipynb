{
 "cells": [
  {
   "attachments": {},
   "cell_type": "markdown",
   "id": "c496433f",
   "metadata": {},
   "source": [
    "# Similarity and Complementary Clustering"
   ]
  },
  {
   "cell_type": "code",
   "execution_count": 13,
   "id": "c68e539f",
   "metadata": {},
   "outputs": [
    {
     "name": "stdout",
     "output_type": "stream",
     "text": [
      "The autoreload extension is already loaded. To reload it, use:\n",
      "  %reload_ext autoreload\n"
     ]
    }
   ],
   "source": [
    "from src.data_processing import load_data, simulate_data, split_by_group_size\n",
    "from src.similarity import *\n",
    "from src.global_var import AVAILABLE, STRENGHTS, INTERESTS, GROUP_SIZE_VAR, INTEREST_VAR\n",
    "from scipy.spatial.distance import euclidean, pdist, squareform\n",
    "random_seed = 123\n",
    "%load_ext autoreload\n",
    "%autoreload 2"
   ]
  },
  {
   "cell_type": "code",
   "execution_count": 2,
   "id": "149e06a9",
   "metadata": {},
   "outputs": [
    {
     "name": "stdout",
     "output_type": "stream",
     "text": [
      "Empry dataframe\n",
      "File not found. Please check the file and try again.\n"
     ]
    }
   ],
   "source": [
    "# Load data or simulate data\n",
    "sample_data = './data/sample_data.csv'\n",
    "df = load_data(sample_data)"
   ]
  },
  {
   "attachments": {},
   "cell_type": "markdown",
   "id": "f48aff8e",
   "metadata": {},
   "source": [
    "### 0) Load the data"
   ]
  },
  {
   "cell_type": "code",
   "execution_count": 3,
   "id": "0692b7e8",
   "metadata": {},
   "outputs": [
    {
     "data": {
      "text/html": [
       "<div>\n",
       "<style scoped>\n",
       "    .dataframe tbody tr th:only-of-type {\n",
       "        vertical-align: middle;\n",
       "    }\n",
       "\n",
       "    .dataframe tbody tr th {\n",
       "        vertical-align: top;\n",
       "    }\n",
       "\n",
       "    .dataframe thead th {\n",
       "        text-align: right;\n",
       "    }\n",
       "</style>\n",
       "<table border=\"1\" class=\"dataframe\">\n",
       "  <thead>\n",
       "    <tr style=\"text-align: right;\">\n",
       "      <th></th>\n",
       "      <th>Do you have a preference in the size of the CoLearning Circle?</th>\n",
       "      <th>Which of the following competencies would you like to develop further?</th>\n",
       "      <th>aux_Which of the following competencies would you like to develop further?</th>\n",
       "      <th>Mondays (choice=8am-12pm)</th>\n",
       "      <th>Mondays (choice=12pm-5pm)</th>\n",
       "      <th>Mondays (choice=5pm-8pm)</th>\n",
       "      <th>Tuesdays (choice=8am-12pm)</th>\n",
       "      <th>Tuesdays (choice=12pm-5pm)</th>\n",
       "      <th>Tuesdays (choice=5pm-8pm)</th>\n",
       "      <th>Wednesdays (choice=8am-12pm)</th>\n",
       "      <th>...</th>\n",
       "      <th>Nudging development with feedback.1</th>\n",
       "      <th>Onboarding new team members and integrating them into the team.1</th>\n",
       "      <th>Leading teams through organizational change.1</th>\n",
       "      <th>Dealing with staff and skill shortages</th>\n",
       "      <th>Addressing and resolving team conflicts.1</th>\n",
       "      <th>Finding information efficiently from trusted sources on the Internet.1</th>\n",
       "      <th>Facilitating virtual workshops.1</th>\n",
       "      <th>Effective virtual team collaboration.1</th>\n",
       "      <th>Maintain and expand professional network online.1</th>\n",
       "      <th>Record ID</th>\n",
       "    </tr>\n",
       "  </thead>\n",
       "  <tbody>\n",
       "    <tr>\n",
       "      <th>0</th>\n",
       "      <td>keine Präferenz</td>\n",
       "      <td>Führungskompetenzen</td>\n",
       "      <td>1.0</td>\n",
       "      <td>0.0</td>\n",
       "      <td>0.0</td>\n",
       "      <td>1.0</td>\n",
       "      <td>0.0</td>\n",
       "      <td>0.0</td>\n",
       "      <td>0.0</td>\n",
       "      <td>0.0</td>\n",
       "      <td>...</td>\n",
       "      <td>0.0</td>\n",
       "      <td>1.0</td>\n",
       "      <td>5.0</td>\n",
       "      <td>7.0</td>\n",
       "      <td>4.0</td>\n",
       "      <td>0.0</td>\n",
       "      <td>0.0</td>\n",
       "      <td>0.0</td>\n",
       "      <td>0.0</td>\n",
       "      <td>0</td>\n",
       "    </tr>\n",
       "    <tr>\n",
       "      <th>1</th>\n",
       "      <td>Tandem (2 Personen)</td>\n",
       "      <td>Kommunikative Kompetenzen</td>\n",
       "      <td>0.0</td>\n",
       "      <td>1.0</td>\n",
       "      <td>0.0</td>\n",
       "      <td>0.0</td>\n",
       "      <td>0.0</td>\n",
       "      <td>1.0</td>\n",
       "      <td>0.0</td>\n",
       "      <td>0.0</td>\n",
       "      <td>...</td>\n",
       "      <td>6.0</td>\n",
       "      <td>0.0</td>\n",
       "      <td>0.0</td>\n",
       "      <td>0.0</td>\n",
       "      <td>0.0</td>\n",
       "      <td>0.0</td>\n",
       "      <td>0.0</td>\n",
       "      <td>0.0</td>\n",
       "      <td>0.0</td>\n",
       "      <td>1</td>\n",
       "    </tr>\n",
       "  </tbody>\n",
       "</table>\n",
       "<p>2 rows × 49 columns</p>\n",
       "</div>"
      ],
      "text/plain": [
       "  Do you have a preference in the size of the CoLearning Circle?  \\\n",
       "0                                    keine Präferenz               \n",
       "1                                Tandem (2 Personen)               \n",
       "\n",
       "  Which of the following competencies would you like to develop further?  \\\n",
       "0                                Führungskompetenzen                       \n",
       "1                          Kommunikative Kompetenzen                       \n",
       "\n",
       "   aux_Which of the following competencies would you like to develop further?  \\\n",
       "0                                                1.0                            \n",
       "1                                                0.0                            \n",
       "\n",
       "   Mondays (choice=8am-12pm)  Mondays (choice=12pm-5pm)  \\\n",
       "0                        0.0                        0.0   \n",
       "1                        1.0                        0.0   \n",
       "\n",
       "   Mondays (choice=5pm-8pm)  Tuesdays (choice=8am-12pm)  \\\n",
       "0                       1.0                         0.0   \n",
       "1                       0.0                         0.0   \n",
       "\n",
       "   Tuesdays (choice=12pm-5pm)  Tuesdays (choice=5pm-8pm)  \\\n",
       "0                         0.0                        0.0   \n",
       "1                         1.0                        0.0   \n",
       "\n",
       "   Wednesdays (choice=8am-12pm)  ...  Nudging development with feedback.1  \\\n",
       "0                           0.0  ...                                  0.0   \n",
       "1                           0.0  ...                                  6.0   \n",
       "\n",
       "   Onboarding new team members and integrating them into the team.1  \\\n",
       "0                                                1.0                  \n",
       "1                                                0.0                  \n",
       "\n",
       "   Leading teams through organizational change.1  \\\n",
       "0                                            5.0   \n",
       "1                                            0.0   \n",
       "\n",
       "   Dealing with staff and skill shortages  \\\n",
       "0                                     7.0   \n",
       "1                                     0.0   \n",
       "\n",
       "   Addressing and resolving team conflicts.1  \\\n",
       "0                                        4.0   \n",
       "1                                        0.0   \n",
       "\n",
       "   Finding information efficiently from trusted sources on the Internet.1  \\\n",
       "0                                                0.0                        \n",
       "1                                                0.0                        \n",
       "\n",
       "   Facilitating virtual workshops.1  Effective virtual team collaboration.1  \\\n",
       "0                               0.0                                     0.0   \n",
       "1                               0.0                                     0.0   \n",
       "\n",
       "   Maintain and expand professional network online.1  Record ID  \n",
       "0                                                0.0          0  \n",
       "1                                                0.0          1  \n",
       "\n",
       "[2 rows x 49 columns]"
      ]
     },
     "execution_count": 3,
     "metadata": {},
     "output_type": "execute_result"
    }
   ],
   "source": [
    "# Load data or simulate data\n",
    "# sample_data = './data/sample_data.csv'\n",
    "# df = load_data(sample_data)\n",
    "\n",
    "df = simulate_data(1000, save = True, save_dir = 'data/simulated_data.csv')\n",
    "\n",
    "# Check that the data was loaded correctly\n",
    "df.head(2)"
   ]
  },
  {
   "cell_type": "code",
   "execution_count": 21,
   "id": "e8b2dcfd",
   "metadata": {},
   "outputs": [
    {
     "data": {
      "text/plain": [
       "array(['Führungskompetenzen', 'Kommunikative Kompetenzen',\n",
       "       'Digitale Kompetenzen'], dtype=object)"
      ]
     },
     "execution_count": 21,
     "metadata": {},
     "output_type": "execute_result"
    }
   ],
   "source": [
    "df['Which of the following competencies would you like to develop further?'].unique()"
   ]
  },
  {
   "attachments": {},
   "cell_type": "markdown",
   "id": "802e510e",
   "metadata": {},
   "source": [
    "## 1) Split the data into 2 groups: Similarity and Complementary "
   ]
  },
  {
   "attachments": {},
   "cell_type": "markdown",
   "id": "22ae24f1",
   "metadata": {},
   "source": [
    "Print the group size preferences"
   ]
  },
  {
   "cell_type": "code",
   "execution_count": 4,
   "id": "0dbf0943",
   "metadata": {},
   "outputs": [
    {
     "data": {
      "text/plain": [
       "Tandem (2 Personen)           474\n",
       "Kleingruppe (3-6 Personen)    336\n",
       "keine Präferenz               190\n",
       "Name: Do you have a preference in the size of the CoLearning Circle?, dtype: int64"
      ]
     },
     "execution_count": 4,
     "metadata": {},
     "output_type": "execute_result"
    }
   ],
   "source": [
    "# Group size preference \n",
    "df[GROUP_SIZE_VAR].value_counts()"
   ]
  },
  {
   "attachments": {},
   "cell_type": "markdown",
   "id": "00f88fa5",
   "metadata": {},
   "source": [
    "Print the interest preferences"
   ]
  },
  {
   "cell_type": "code",
   "execution_count": 6,
   "id": "3dcbc8ac",
   "metadata": {},
   "outputs": [
    {
     "data": {
      "text/plain": [
       "Kommunikative Kompetenzen    512\n",
       "Führungskompetenzen          277\n",
       "Digitale Kompetenzen         211\n",
       "Name: Which of the following competencies would you like to develop further?, dtype: int64"
      ]
     },
     "execution_count": 6,
     "metadata": {},
     "output_type": "execute_result"
    }
   ],
   "source": [
    "df[INTEREST_VAR].value_counts()"
   ]
  },
  {
   "attachments": {},
   "cell_type": "markdown",
   "id": "132a54ab",
   "metadata": {},
   "source": [
    "Concatenate the groups size and the interest preferences"
   ]
  },
  {
   "cell_type": "code",
   "execution_count": 7,
   "id": "54684884",
   "metadata": {},
   "outputs": [
    {
     "data": {
      "text/plain": [
       "Tandem (2 Personen)Kommunikative Kompetenzen           245\n",
       "Kleingruppe (3-6 Personen)Kommunikative Kompetenzen    168\n",
       "Tandem (2 Personen)Führungskompetenzen                 137\n",
       "keine PräferenzKommunikative Kompetenzen                99\n",
       "Tandem (2 Personen)Digitale Kompetenzen                 92\n",
       "Kleingruppe (3-6 Personen)Führungskompetenzen           87\n",
       "Kleingruppe (3-6 Personen)Digitale Kompetenzen          81\n",
       "keine PräferenzFührungskompetenzen                      53\n",
       "keine PräferenzDigitale Kompetenzen                     38\n",
       "Name: stratify, dtype: int64"
      ]
     },
     "execution_count": 7,
     "metadata": {},
     "output_type": "execute_result"
    }
   ],
   "source": [
    "df['stratify'] = df[GROUP_SIZE_VAR] + df[INTEREST_VAR]\n",
    "df['stratify'].value_counts()"
   ]
  },
  {
   "attachments": {},
   "cell_type": "markdown",
   "id": "05ea7d3c",
   "metadata": {},
   "source": [
    "Split in 2 groups: similarity and complementarity"
   ]
  },
  {
   "cell_type": "code",
   "execution_count": 8,
   "id": "18e2a13c",
   "metadata": {},
   "outputs": [
    {
     "name": "stdout",
     "output_type": "stream",
     "text": [
      "500 participants in the similarity group and 500 participants in the complementary group\n"
     ]
    }
   ],
   "source": [
    "# Statified split \n",
    "from sklearn.model_selection import train_test_split\n",
    "\n",
    "df_sim, df_comp = train_test_split(df, test_size=0.5,\n",
    "                                   random_state=random_seed,\n",
    "                                   stratify=df['stratify'])\n",
    "\n",
    "print(f\"\"\"{len(df_sim)} participants in the similarity group and {len(df_comp)} participants in the complementary group\"\"\")"
   ]
  },
  {
   "cell_type": "code",
   "execution_count": 9,
   "id": "060b5a47",
   "metadata": {},
   "outputs": [
    {
     "data": {
      "text/plain": [
       "Do you have a preference in the size of the CoLearning Circle?\n",
       "Tandem (2 Personen)                                               237\n",
       "Kleingruppe (3-6 Personen)                                        168\n",
       "keine Präferenz                                                    95\n",
       "dtype: int64"
      ]
     },
     "execution_count": 9,
     "metadata": {},
     "output_type": "execute_result"
    }
   ],
   "source": [
    "df_sim[[GROUP_SIZE_VAR]].value_counts()"
   ]
  },
  {
   "attachments": {},
   "cell_type": "markdown",
   "id": "df77a885",
   "metadata": {},
   "source": [
    "## 3) Split depending on group size "
   ]
  },
  {
   "cell_type": "code",
   "execution_count": 10,
   "id": "29705004",
   "metadata": {},
   "outputs": [
    {
     "name": "stdout",
     "output_type": "stream",
     "text": [
      "Do you have a preference in the size of the CoLearning Circle?  group_size \n",
      "Tandem (2 Personen)                                             tandem         237\n",
      "Kleingruppe (3-6 Personen)                                      kleingruppe    168\n",
      "keine Präferenz                                                 kleingruppe     84\n",
      "                                                                tandem          11\n",
      "dtype: int64\n"
     ]
    }
   ],
   "source": [
    "df_sim_tandem, df_sim_kleingruppe  = split_by_group_size(df_sim)"
   ]
  },
  {
   "cell_type": "code",
   "execution_count": 11,
   "id": "f7525dfc",
   "metadata": {},
   "outputs": [
    {
     "name": "stdout",
     "output_type": "stream",
     "text": [
      "Do you have a preference in the size of the CoLearning Circle?  group_size \n",
      "Tandem (2 Personen)                                             tandem         237\n",
      "Kleingruppe (3-6 Personen)                                      kleingruppe    168\n",
      "keine Präferenz                                                 kleingruppe     84\n",
      "                                                                tandem          11\n",
      "dtype: int64\n"
     ]
    }
   ],
   "source": [
    "df_comp_tandem, df_comp_kleingruppe  = split_by_group_size(df_comp)"
   ]
  },
  {
   "cell_type": "code",
   "execution_count": 12,
   "id": "7c31d64d",
   "metadata": {},
   "outputs": [
    {
     "name": "stdout",
     "output_type": "stream",
     "text": [
      "group_size  Which of the following competencies would you like to develop further?\n",
      "tandem      Kommunikative Kompetenzen                                                 128\n",
      "            Führungskompetenzen                                                        74\n",
      "            Digitale Kompetenzen                                                       46\n",
      "dtype: int64\n"
     ]
    }
   ],
   "source": [
    "# Report the number of participants in each group\n",
    "print(df_sim_tandem[['group_size', INTEREST_VAR]].value_counts())\n"
   ]
  },
  {
   "attachments": {},
   "cell_type": "markdown",
   "id": "7cf59790",
   "metadata": {},
   "source": [
    "## 4) Make groups\n",
    "1. Contrains: At least one mutual available slot. \n",
    "2. Similarity. \n"
   ]
  },
  {
   "attachments": {},
   "cell_type": "markdown",
   "id": "cea5602c",
   "metadata": {},
   "source": [
    "\n",
    "### 4.1) Similarity Tandom (df_sim_tandem)"
   ]
  },
  {
   "cell_type": "code",
   "execution_count": 16,
   "id": "184110e7",
   "metadata": {},
   "outputs": [],
   "source": [
    "interest = 'Digitale Kompetenzen'\n",
    "df_sim_tandem_interest = df_sim_tandem[df_sim_tandem[INTEREST_VAR]==interest].copy()\n",
    "m_available = np.array(df_sim_tandem_interest[AVAILABLE], dtype=bool)\n",
    "available_count  = compute_availability(m_available)\n",
    "\n",
    "# Boolean array indicating if the participants have one time slot in common \n",
    "not_available = np.array(available_count>=1, dtype=int)"
   ]
  },
  {
   "cell_type": "code",
   "execution_count": 28,
   "id": "63727309",
   "metadata": {},
   "outputs": [
    {
     "data": {
      "text/plain": [
       "array([[0, 1, 1, ..., 1, 0, 1],\n",
       "       [1, 0, 0, ..., 1, 1, 1],\n",
       "       [1, 0, 0, ..., 1, 0, 1],\n",
       "       ...,\n",
       "       [1, 1, 1, ..., 0, 0, 1],\n",
       "       [0, 1, 0, ..., 0, 0, 1],\n",
       "       [1, 1, 1, ..., 1, 1, 0]])"
      ]
     },
     "execution_count": 28,
     "metadata": {},
     "output_type": "execute_result"
    }
   ],
   "source": [
    "not_available"
   ]
  },
  {
   "cell_type": "code",
   "execution_count": 29,
   "id": "2f88e40b",
   "metadata": {},
   "outputs": [],
   "source": [
    "# Compute similarity\n",
    "\n",
    "if interest == 'Digitale Kompetenzen':\n",
    "    features = INTERESTS[8:]\n",
    "    feat_comp = STRENGHTS[8:]\n",
    "elif interest == 'Führungskompetenzen':\n",
    "    features = INTERESTS[4:8]\n",
    "    feat_comp = STRENGHTS[4:8]\n",
    "else: # Kommunikative Kompetenzen\n",
    "    features = INTERESTS[:4]\n",
    "    feat_comp = STRENGHTS[:4]\n",
    "\n",
    "m_similarity = np.array(df_sim_tandem_interest[features], dtype=int)\n",
    "# maximize this similarity\n",
    "distance_s = squareform(pdist(m_similarity, metric='euclidean'))\n",
    "\n",
    "\n",
    "# Competence shouldn't be too low: There;s nothing we can do about it\n",
    "m_comp = np.array(df_sim_tandem_interest[feat_comp], dtype=int)\n",
    "distance_c = squareform(pdist(m_comp, metric='euclidean'))\n",
    "\n",
    "# how many times (percentage) the difference between the competence is higher than 3 \n",
    "count_three = compute_difference(m_comp)/4"
   ]
  },
  {
   "cell_type": "code",
   "execution_count": 35,
   "id": "38e63e32",
   "metadata": {},
   "outputs": [
    {
     "data": {
      "text/plain": [
       "(46, 46)"
      ]
     },
     "execution_count": 35,
     "metadata": {},
     "output_type": "execute_result"
    }
   ],
   "source": [
    "distance_s.shape"
   ]
  },
  {
   "cell_type": "code",
   "execution_count": 412,
   "id": "75e3aa75",
   "metadata": {},
   "outputs": [
    {
     "data": {
      "text/plain": [
       "array([[0.        , 0.62569982, 0.60766955, ..., 0.65818022, 0.72344114,\n",
       "        0.80668575],\n",
       "       [0.62569982, 0.        , 0.58369949, ..., 0.57055479, 0.70449119,\n",
       "        0.66941947],\n",
       "       [0.60766955, 0.58369949, 0.        , ..., 0.43909626, 0.29379456,\n",
       "        0.69008637],\n",
       "       ...,\n",
       "       [0.65818022, 0.57055479, 0.43909626, ..., 0.        , 0.63754456,\n",
       "        0.67859506],\n",
       "       [0.72344114, 0.70449119, 0.29379456, ..., 0.63754456, 0.        ,\n",
       "        0.67278109],\n",
       "       [0.80668575, 0.66941947, 0.69008637, ..., 0.67859506, 0.67278109,\n",
       "        0.        ]])"
      ]
     },
     "execution_count": 412,
     "metadata": {},
     "output_type": "execute_result"
    }
   ],
   "source": [
    "# Distance between interests \n",
    "# + penality for not available\n",
    "# + penality for gap in interests \n",
    "PENALTY_AVAILABILITY = 2 \n",
    "PENALTY_GAP = 1\n",
    "SIMILARITY_WEIGHT = 3\n",
    "\n",
    "weighted_distance =  (\n",
    "                     SIMILARITY_WEIGHT*(distance_s/np.max(distance_s)) + \n",
    "                     PENALTY_AVAILABILITY*not_available + \n",
    "                     PENALTY_GAP*(count_three/4)\n",
    "                     )/(PENALTY_AVAILABILITY+PENALTY_GAP+SIMILARITY_WEIGHT)\n",
    "\n",
    "weighted_distance"
   ]
  },
  {
   "cell_type": "code",
   "execution_count": 413,
   "id": "2097c7d9",
   "metadata": {},
   "outputs": [
    {
     "data": {
      "text/plain": [
       "array([[0.        , 0.62569982, 0.60766955, ..., 0.65818022, 0.72344114,\n",
       "        0.80668575],\n",
       "       [0.62569982, 0.        , 0.58369949, ..., 0.57055479, 0.70449119,\n",
       "        0.66941947],\n",
       "       [0.60766955, 0.58369949, 0.        , ..., 0.43909626, 0.29379456,\n",
       "        0.69008637],\n",
       "       ...,\n",
       "       [0.65818022, 0.57055479, 0.43909626, ..., 0.        , 0.63754456,\n",
       "        0.67859506],\n",
       "       [0.72344114, 0.70449119, 0.29379456, ..., 0.63754456, 0.        ,\n",
       "        0.67278109],\n",
       "       [0.80668575, 0.66941947, 0.69008637, ..., 0.67859506, 0.67278109,\n",
       "        0.        ]])"
      ]
     },
     "execution_count": 413,
     "metadata": {},
     "output_type": "execute_result"
    }
   ],
   "source": [
    "weighted_distance"
   ]
  },
  {
   "cell_type": "code",
   "execution_count": 420,
   "id": "9c16541a",
   "metadata": {},
   "outputs": [],
   "source": [
    "import cvxpy \n",
    "\n",
    "def connect_point_cloud(d):\n",
    "    '''\n",
    "    Given a set of points computes return pairs of points that\n",
    "    whose added distance is minimised\n",
    "    '''\n",
    "    N = d.shape[0];\n",
    "    I, J = np.indices((N, N))\n",
    "    \n",
    "    use = cvxpy.Variable((N, N), integer=True)\n",
    "    # each entry use[i,j] indicates that the point i is connected to point j\n",
    "    # each pair may count 0 or 1 times\n",
    "    constraints = [use >= 0, use <= 1];\n",
    "    # point i must be used in at most one connection\n",
    "    constraints += [sum(use[i,:]) + sum(use[:, i]) <= 1 for i in range(N)]\n",
    "    # at least floor(N/2) connections must be presented\n",
    "    constraints += [sum(use[i,j] for i in range(N) for j in range(N)) >= N//2];\n",
    "    \n",
    "    # let the solver  to handle the problem\n",
    "    P = cvxpy.Problem(cvxpy.Minimize(sum(use[i,j] * d[i,j] for i in range(N) for j in range(N))), constraints)\n",
    "    dist = P.solve()\n",
    "    return use.value"
   ]
  },
  {
   "attachments": {},
   "cell_type": "markdown",
   "id": "eff8cf06",
   "metadata": {},
   "source": [
    "### 4.2) Similarity Groups (df_sim_kleingruppe)"
   ]
  },
  {
   "attachments": {},
   "cell_type": "markdown",
   "id": "b4221adf",
   "metadata": {},
   "source": [
    "### 4.3) Complementary Tandom (df_comp_tandem)"
   ]
  },
  {
   "attachments": {},
   "cell_type": "markdown",
   "id": "e52b6526",
   "metadata": {},
   "source": [
    "### 4.4) Complementary Groups (df_comp_kleingruppe)"
   ]
  },
  {
   "cell_type": "code",
   "execution_count": null,
   "id": "b0b15acd",
   "metadata": {},
   "outputs": [],
   "source": []
  },
  {
   "attachments": {},
   "cell_type": "markdown",
   "id": "56fdf552",
   "metadata": {},
   "source": []
  },
  {
   "cell_type": "code",
   "execution_count": null,
   "id": "a5d3f3de",
   "metadata": {},
   "outputs": [],
   "source": []
  },
  {
   "cell_type": "code",
   "execution_count": null,
   "id": "66c70785",
   "metadata": {},
   "outputs": [],
   "source": [
    "## Failed attempts"
   ]
  },
  {
   "cell_type": "code",
   "execution_count": 421,
   "id": "df8b3e0b",
   "metadata": {},
   "outputs": [
    {
     "ename": "SolverError",
     "evalue": "\n\n                    You need a mixed-integer solver for this model. Refer to the documentation\n                        https://www.cvxpy.org/tutorial/advanced/index.html#mixed-integer-programs\n                    for discussion on this topic.\n\n                    Quick fix 1: if you install the python package CVXOPT (pip install cvxopt),\n                    then CVXPY can use the open-source mixed-integer linear programming\n                    solver `GLPK`. If your problem is nonlinear then you can install SCIP\n                    (pip install pyscipopt).\n\n                    Quick fix 2: you can explicitly specify solver='ECOS_BB'. This may result\n                    in incorrect solutions and is not recommended.\n                ",
     "output_type": "error",
     "traceback": [
      "\u001b[0;31m---------------------------------------------------------------------------\u001b[0m",
      "\u001b[0;31mSolverError\u001b[0m                               Traceback (most recent call last)",
      "\u001b[0;32m/var/folders/hw/d816vr215jzc635m0st0ybyw0000gp/T/ipykernel_37552/3212087845.py\u001b[0m in \u001b[0;36m<module>\u001b[0;34m\u001b[0m\n\u001b[0;32m----> 1\u001b[0;31m \u001b[0mres\u001b[0m \u001b[0;34m=\u001b[0m \u001b[0mconnect_point_cloud\u001b[0m\u001b[0;34m(\u001b[0m\u001b[0mweighted_distance\u001b[0m\u001b[0;34m)\u001b[0m\u001b[0;34m\u001b[0m\u001b[0;34m\u001b[0m\u001b[0m\n\u001b[0m",
      "\u001b[0;32m/var/folders/hw/d816vr215jzc635m0st0ybyw0000gp/T/ipykernel_37552/3884058406.py\u001b[0m in \u001b[0;36mconnect_point_cloud\u001b[0;34m(d)\u001b[0m\n\u001b[1;32m     20\u001b[0m     \u001b[0;31m# let the solver  to handle the problem\u001b[0m\u001b[0;34m\u001b[0m\u001b[0;34m\u001b[0m\u001b[0;34m\u001b[0m\u001b[0m\n\u001b[1;32m     21\u001b[0m     \u001b[0mP\u001b[0m \u001b[0;34m=\u001b[0m \u001b[0mcvxpy\u001b[0m\u001b[0;34m.\u001b[0m\u001b[0mProblem\u001b[0m\u001b[0;34m(\u001b[0m\u001b[0mcvxpy\u001b[0m\u001b[0;34m.\u001b[0m\u001b[0mMinimize\u001b[0m\u001b[0;34m(\u001b[0m\u001b[0msum\u001b[0m\u001b[0;34m(\u001b[0m\u001b[0muse\u001b[0m\u001b[0;34m[\u001b[0m\u001b[0mi\u001b[0m\u001b[0;34m,\u001b[0m\u001b[0mj\u001b[0m\u001b[0;34m]\u001b[0m \u001b[0;34m*\u001b[0m \u001b[0md\u001b[0m\u001b[0;34m[\u001b[0m\u001b[0mi\u001b[0m\u001b[0;34m,\u001b[0m\u001b[0mj\u001b[0m\u001b[0;34m]\u001b[0m \u001b[0;32mfor\u001b[0m \u001b[0mi\u001b[0m \u001b[0;32min\u001b[0m \u001b[0mrange\u001b[0m\u001b[0;34m(\u001b[0m\u001b[0mN\u001b[0m\u001b[0;34m)\u001b[0m \u001b[0;32mfor\u001b[0m \u001b[0mj\u001b[0m \u001b[0;32min\u001b[0m \u001b[0mrange\u001b[0m\u001b[0;34m(\u001b[0m\u001b[0mN\u001b[0m\u001b[0;34m)\u001b[0m\u001b[0;34m)\u001b[0m\u001b[0;34m)\u001b[0m\u001b[0;34m,\u001b[0m \u001b[0mconstraints\u001b[0m\u001b[0;34m)\u001b[0m\u001b[0;34m\u001b[0m\u001b[0;34m\u001b[0m\u001b[0m\n\u001b[0;32m---> 22\u001b[0;31m     \u001b[0mdist\u001b[0m \u001b[0;34m=\u001b[0m \u001b[0mP\u001b[0m\u001b[0;34m.\u001b[0m\u001b[0msolve\u001b[0m\u001b[0;34m(\u001b[0m\u001b[0;34m)\u001b[0m\u001b[0;34m\u001b[0m\u001b[0;34m\u001b[0m\u001b[0m\n\u001b[0m\u001b[1;32m     23\u001b[0m     \u001b[0;32mreturn\u001b[0m \u001b[0muse\u001b[0m\u001b[0;34m.\u001b[0m\u001b[0mvalue\u001b[0m\u001b[0;34m\u001b[0m\u001b[0;34m\u001b[0m\u001b[0m\n",
      "\u001b[0;32m~/opt/anaconda3/envs/dvet-env/lib/python3.8/site-packages/cvxpy/problems/problem.py\u001b[0m in \u001b[0;36msolve\u001b[0;34m(self, *args, **kwargs)\u001b[0m\n\u001b[1;32m    491\u001b[0m         \u001b[0;32melse\u001b[0m\u001b[0;34m:\u001b[0m\u001b[0;34m\u001b[0m\u001b[0;34m\u001b[0m\u001b[0m\n\u001b[1;32m    492\u001b[0m             \u001b[0msolve_func\u001b[0m \u001b[0;34m=\u001b[0m \u001b[0mProblem\u001b[0m\u001b[0;34m.\u001b[0m\u001b[0m_solve\u001b[0m\u001b[0;34m\u001b[0m\u001b[0;34m\u001b[0m\u001b[0m\n\u001b[0;32m--> 493\u001b[0;31m         \u001b[0;32mreturn\u001b[0m \u001b[0msolve_func\u001b[0m\u001b[0;34m(\u001b[0m\u001b[0mself\u001b[0m\u001b[0;34m,\u001b[0m \u001b[0;34m*\u001b[0m\u001b[0margs\u001b[0m\u001b[0;34m,\u001b[0m \u001b[0;34m**\u001b[0m\u001b[0mkwargs\u001b[0m\u001b[0;34m)\u001b[0m\u001b[0;34m\u001b[0m\u001b[0;34m\u001b[0m\u001b[0m\n\u001b[0m\u001b[1;32m    494\u001b[0m \u001b[0;34m\u001b[0m\u001b[0m\n\u001b[1;32m    495\u001b[0m     \u001b[0;34m@\u001b[0m\u001b[0mclassmethod\u001b[0m\u001b[0;34m\u001b[0m\u001b[0;34m\u001b[0m\u001b[0m\n",
      "\u001b[0;32m~/opt/anaconda3/envs/dvet-env/lib/python3.8/site-packages/cvxpy/problems/problem.py\u001b[0m in \u001b[0;36m_solve\u001b[0;34m(self, solver, warm_start, verbose, gp, qcp, requires_grad, enforce_dpp, ignore_dpp, canon_backend, **kwargs)\u001b[0m\n\u001b[1;32m   1052\u001b[0m                 \u001b[0;32mreturn\u001b[0m \u001b[0mself\u001b[0m\u001b[0;34m.\u001b[0m\u001b[0mvalue\u001b[0m\u001b[0;34m\u001b[0m\u001b[0;34m\u001b[0m\u001b[0m\n\u001b[1;32m   1053\u001b[0m \u001b[0;34m\u001b[0m\u001b[0m\n\u001b[0;32m-> 1054\u001b[0;31m         data, solving_chain, inverse_data = self.get_problem_data(\n\u001b[0m\u001b[1;32m   1055\u001b[0m             \u001b[0msolver\u001b[0m\u001b[0;34m,\u001b[0m \u001b[0mgp\u001b[0m\u001b[0;34m,\u001b[0m \u001b[0menforce_dpp\u001b[0m\u001b[0;34m,\u001b[0m \u001b[0mignore_dpp\u001b[0m\u001b[0;34m,\u001b[0m \u001b[0mverbose\u001b[0m\u001b[0;34m,\u001b[0m \u001b[0mcanon_backend\u001b[0m\u001b[0;34m,\u001b[0m \u001b[0mkwargs\u001b[0m\u001b[0;34m\u001b[0m\u001b[0;34m\u001b[0m\u001b[0m\n\u001b[1;32m   1056\u001b[0m         )\n",
      "\u001b[0;32m~/opt/anaconda3/envs/dvet-env/lib/python3.8/site-packages/cvxpy/problems/problem.py\u001b[0m in \u001b[0;36mget_problem_data\u001b[0;34m(self, solver, gp, enforce_dpp, ignore_dpp, verbose, canon_backend, solver_opts)\u001b[0m\n\u001b[1;32m    629\u001b[0m         \u001b[0;32mif\u001b[0m \u001b[0mkey\u001b[0m \u001b[0;34m!=\u001b[0m \u001b[0mself\u001b[0m\u001b[0;34m.\u001b[0m\u001b[0m_cache\u001b[0m\u001b[0;34m.\u001b[0m\u001b[0mkey\u001b[0m\u001b[0;34m:\u001b[0m\u001b[0;34m\u001b[0m\u001b[0;34m\u001b[0m\u001b[0m\n\u001b[1;32m    630\u001b[0m             \u001b[0mself\u001b[0m\u001b[0;34m.\u001b[0m\u001b[0m_cache\u001b[0m\u001b[0;34m.\u001b[0m\u001b[0minvalidate\u001b[0m\u001b[0;34m(\u001b[0m\u001b[0;34m)\u001b[0m\u001b[0;34m\u001b[0m\u001b[0;34m\u001b[0m\u001b[0m\n\u001b[0;32m--> 631\u001b[0;31m             solving_chain = self._construct_chain(\n\u001b[0m\u001b[1;32m    632\u001b[0m                 \u001b[0msolver\u001b[0m\u001b[0;34m=\u001b[0m\u001b[0msolver\u001b[0m\u001b[0;34m,\u001b[0m \u001b[0mgp\u001b[0m\u001b[0;34m=\u001b[0m\u001b[0mgp\u001b[0m\u001b[0;34m,\u001b[0m\u001b[0;34m\u001b[0m\u001b[0;34m\u001b[0m\u001b[0m\n\u001b[1;32m    633\u001b[0m                 \u001b[0menforce_dpp\u001b[0m\u001b[0;34m=\u001b[0m\u001b[0menforce_dpp\u001b[0m\u001b[0;34m,\u001b[0m\u001b[0;34m\u001b[0m\u001b[0;34m\u001b[0m\u001b[0m\n",
      "\u001b[0;32m~/opt/anaconda3/envs/dvet-env/lib/python3.8/site-packages/cvxpy/problems/problem.py\u001b[0m in \u001b[0;36m_construct_chain\u001b[0;34m(self, solver, gp, enforce_dpp, ignore_dpp, canon_backend, solver_opts)\u001b[0m\n\u001b[1;32m    879\u001b[0m         \u001b[0mA\u001b[0m \u001b[0msolving\u001b[0m \u001b[0mchain\u001b[0m\u001b[0;34m\u001b[0m\u001b[0;34m\u001b[0m\u001b[0m\n\u001b[1;32m    880\u001b[0m         \"\"\"\n\u001b[0;32m--> 881\u001b[0;31m         \u001b[0mcandidate_solvers\u001b[0m \u001b[0;34m=\u001b[0m \u001b[0mself\u001b[0m\u001b[0;34m.\u001b[0m\u001b[0m_find_candidate_solvers\u001b[0m\u001b[0;34m(\u001b[0m\u001b[0msolver\u001b[0m\u001b[0;34m=\u001b[0m\u001b[0msolver\u001b[0m\u001b[0;34m,\u001b[0m \u001b[0mgp\u001b[0m\u001b[0;34m=\u001b[0m\u001b[0mgp\u001b[0m\u001b[0;34m)\u001b[0m\u001b[0;34m\u001b[0m\u001b[0;34m\u001b[0m\u001b[0m\n\u001b[0m\u001b[1;32m    882\u001b[0m         \u001b[0mself\u001b[0m\u001b[0;34m.\u001b[0m\u001b[0m_sort_candidate_solvers\u001b[0m\u001b[0;34m(\u001b[0m\u001b[0mcandidate_solvers\u001b[0m\u001b[0;34m)\u001b[0m\u001b[0;34m\u001b[0m\u001b[0;34m\u001b[0m\u001b[0m\n\u001b[1;32m    883\u001b[0m         return construct_solving_chain(self, candidate_solvers, gp=gp,\n",
      "\u001b[0;32m~/opt/anaconda3/envs/dvet-env/lib/python3.8/site-packages/cvxpy/problems/problem.py\u001b[0m in \u001b[0;36m_find_candidate_solvers\u001b[0;34m(self, solver, gp)\u001b[0m\n\u001b[1;32m    784\u001b[0m                     \u001b[0;32min\u001b[0m \u001b[0mincorrect\u001b[0m \u001b[0msolutions\u001b[0m \u001b[0;32mand\u001b[0m \u001b[0;32mis\u001b[0m \u001b[0;32mnot\u001b[0m \u001b[0mrecommended\u001b[0m\u001b[0;34m.\u001b[0m\u001b[0;34m\u001b[0m\u001b[0;34m\u001b[0m\u001b[0m\n\u001b[1;32m    785\u001b[0m                 \"\"\"\n\u001b[0;32m--> 786\u001b[0;31m                 \u001b[0;32mraise\u001b[0m \u001b[0merror\u001b[0m\u001b[0;34m.\u001b[0m\u001b[0mSolverError\u001b[0m\u001b[0;34m(\u001b[0m\u001b[0mmsg\u001b[0m\u001b[0;34m)\u001b[0m\u001b[0;34m\u001b[0m\u001b[0;34m\u001b[0m\u001b[0m\n\u001b[0m\u001b[1;32m    787\u001b[0m             \u001b[0;31m# TODO: provide a useful error message when the problem is nonlinear but\u001b[0m\u001b[0;34m\u001b[0m\u001b[0;34m\u001b[0m\u001b[0;34m\u001b[0m\u001b[0m\n\u001b[1;32m    788\u001b[0m             \u001b[0;31m#  the only installed mixed-integer solvers are MILP solvers (e.g., GLPK_MI).\u001b[0m\u001b[0;34m\u001b[0m\u001b[0;34m\u001b[0m\u001b[0;34m\u001b[0m\u001b[0m\n",
      "\u001b[0;31mSolverError\u001b[0m: \n\n                    You need a mixed-integer solver for this model. Refer to the documentation\n                        https://www.cvxpy.org/tutorial/advanced/index.html#mixed-integer-programs\n                    for discussion on this topic.\n\n                    Quick fix 1: if you install the python package CVXOPT (pip install cvxopt),\n                    then CVXPY can use the open-source mixed-integer linear programming\n                    solver `GLPK`. If your problem is nonlinear then you can install SCIP\n                    (pip install pyscipopt).\n\n                    Quick fix 2: you can explicitly specify solver='ECOS_BB'. This may result\n                    in incorrect solutions and is not recommended.\n                "
     ]
    }
   ],
   "source": [
    "res = connect_point_cloud(weighted_distance)"
   ]
  },
  {
   "cell_type": "code",
   "execution_count": 395,
   "id": "e61e5a65",
   "metadata": {},
   "outputs": [
    {
     "data": {
      "text/plain": [
       "<AxesSubplot:>"
      ]
     },
     "execution_count": 395,
     "metadata": {},
     "output_type": "execute_result"
    },
    {
     "data": {
      "image/png": "[encoded data removed]",
      "text/plain": [
       "<Figure size 432x288 with 2 Axes>"
      ]
     },
     "metadata": {
      "needs_background": "light"
     },
     "output_type": "display_data"
    }
   ],
   "source": [
    "pairs_m = weighted_distance\n",
    "np.fill_diagonal(pairs_m, 1)\n",
    "num = pairs_m.shape[0]\n",
    "ones = np.ones((num, num))\n",
    "np.fill_diagonal(ones, 0)\n",
    "pairs_m = np.tril(ones) + np.triu(pairs_m)\n",
    "sns.heatmap(pairs_m)\n",
    "#np.fill_diagonal(pairs_m, 1)"
   ]
  },
  {
   "cell_type": "code",
   "execution_count": null,
   "id": "06100825",
   "metadata": {},
   "outputs": [],
   "source": []
  },
  {
   "cell_type": "code",
   "execution_count": 396,
   "id": "3bd41b45",
   "metadata": {},
   "outputs": [],
   "source": [
    "# Other ideas \n",
    "# Most similar sequential\n",
    "label_index = []\n",
    "labels_list = [] \n",
    "distance_list = []\n",
    "group = 0\n",
    "\n",
    "for i in range(num_pairs):\n",
    "    smallest = np.unravel_index(pairs_m.argmin(), pairs_m.shape)\n",
    "    distance = pairs_m[smallest]\n",
    "\n",
    "    a = smallest[0]\n",
    "    b = smallest[1]\n",
    "\n",
    "    label_index.append(a)\n",
    "    label_index.append(b)\n",
    "\n",
    "    labels_list.append(group)\n",
    "    labels_list.append(group)\n",
    "    group += 1 \n",
    "\n",
    "    distance_list.append(distance)\n",
    "    distance_list.append(distance)\n",
    "\n",
    "    pairs_m[:,a] = 1\n",
    "    pairs_m[a,:] = 1\n",
    "\n",
    "    pairs_m[:,b] = 1\n",
    "    pairs_m[b,:] = 1\n"
   ]
  },
  {
   "cell_type": "code",
   "execution_count": 392,
   "id": "ee483edc",
   "metadata": {},
   "outputs": [
    {
     "data": {
      "text/plain": [
       "44"
      ]
     },
     "execution_count": 392,
     "metadata": {},
     "output_type": "execute_result"
    }
   ],
   "source": [
    "len(np.unique(label_index))"
   ]
  },
  {
   "cell_type": "code",
   "execution_count": 397,
   "id": "cb882e23",
   "metadata": {},
   "outputs": [
    {
     "data": {
      "text/html": [
       "<div>\n",
       "<style scoped>\n",
       "    .dataframe tbody tr th:only-of-type {\n",
       "        vertical-align: middle;\n",
       "    }\n",
       "\n",
       "    .dataframe tbody tr th {\n",
       "        vertical-align: top;\n",
       "    }\n",
       "\n",
       "    .dataframe thead th {\n",
       "        text-align: right;\n",
       "    }\n",
       "</style>\n",
       "<table border=\"1\" class=\"dataframe\">\n",
       "  <thead>\n",
       "    <tr style=\"text-align: right;\">\n",
       "      <th></th>\n",
       "      <th>index</th>\n",
       "      <th>label</th>\n",
       "      <th>distance</th>\n",
       "    </tr>\n",
       "  </thead>\n",
       "  <tbody>\n",
       "    <tr>\n",
       "      <th>0</th>\n",
       "      <td>5</td>\n",
       "      <td>0</td>\n",
       "      <td>0.060858</td>\n",
       "    </tr>\n",
       "    <tr>\n",
       "      <th>1</th>\n",
       "      <td>29</td>\n",
       "      <td>0</td>\n",
       "      <td>0.060858</td>\n",
       "    </tr>\n",
       "    <tr>\n",
       "      <th>2</th>\n",
       "      <td>33</td>\n",
       "      <td>1</td>\n",
       "      <td>0.060858</td>\n",
       "    </tr>\n",
       "    <tr>\n",
       "      <th>3</th>\n",
       "      <td>42</td>\n",
       "      <td>1</td>\n",
       "      <td>0.060858</td>\n",
       "    </tr>\n",
       "    <tr>\n",
       "      <th>4</th>\n",
       "      <td>1</td>\n",
       "      <td>2</td>\n",
       "      <td>0.121716</td>\n",
       "    </tr>\n",
       "    <tr>\n",
       "      <th>5</th>\n",
       "      <td>11</td>\n",
       "      <td>2</td>\n",
       "      <td>0.121716</td>\n",
       "    </tr>\n",
       "    <tr>\n",
       "      <th>6</th>\n",
       "      <td>3</td>\n",
       "      <td>3</td>\n",
       "      <td>0.121716</td>\n",
       "    </tr>\n",
       "    <tr>\n",
       "      <th>7</th>\n",
       "      <td>17</td>\n",
       "      <td>3</td>\n",
       "      <td>0.121716</td>\n",
       "    </tr>\n",
       "    <tr>\n",
       "      <th>8</th>\n",
       "      <td>14</td>\n",
       "      <td>4</td>\n",
       "      <td>0.129099</td>\n",
       "    </tr>\n",
       "    <tr>\n",
       "      <th>9</th>\n",
       "      <td>18</td>\n",
       "      <td>4</td>\n",
       "      <td>0.129099</td>\n",
       "    </tr>\n",
       "    <tr>\n",
       "      <th>10</th>\n",
       "      <td>2</td>\n",
       "      <td>5</td>\n",
       "      <td>0.136083</td>\n",
       "    </tr>\n",
       "    <tr>\n",
       "      <th>11</th>\n",
       "      <td>20</td>\n",
       "      <td>5</td>\n",
       "      <td>0.136083</td>\n",
       "    </tr>\n",
       "    <tr>\n",
       "      <th>12</th>\n",
       "      <td>32</td>\n",
       "      <td>6</td>\n",
       "      <td>0.147076</td>\n",
       "    </tr>\n",
       "    <tr>\n",
       "      <th>13</th>\n",
       "      <td>38</td>\n",
       "      <td>6</td>\n",
       "      <td>0.147076</td>\n",
       "    </tr>\n",
       "    <tr>\n",
       "      <th>14</th>\n",
       "      <td>13</td>\n",
       "      <td>7</td>\n",
       "      <td>0.184391</td>\n",
       "    </tr>\n",
       "    <tr>\n",
       "      <th>15</th>\n",
       "      <td>15</td>\n",
       "      <td>7</td>\n",
       "      <td>0.184391</td>\n",
       "    </tr>\n",
       "    <tr>\n",
       "      <th>16</th>\n",
       "      <td>24</td>\n",
       "      <td>8</td>\n",
       "      <td>0.190738</td>\n",
       "    </tr>\n",
       "    <tr>\n",
       "      <th>17</th>\n",
       "      <td>31</td>\n",
       "      <td>8</td>\n",
       "      <td>0.190738</td>\n",
       "    </tr>\n",
       "    <tr>\n",
       "      <th>18</th>\n",
       "      <td>0</td>\n",
       "      <td>9</td>\n",
       "      <td>0.196825</td>\n",
       "    </tr>\n",
       "    <tr>\n",
       "      <th>19</th>\n",
       "      <td>30</td>\n",
       "      <td>9</td>\n",
       "      <td>0.196825</td>\n",
       "    </tr>\n",
       "    <tr>\n",
       "      <th>20</th>\n",
       "      <td>7</td>\n",
       "      <td>10</td>\n",
       "      <td>0.202682</td>\n",
       "    </tr>\n",
       "    <tr>\n",
       "      <th>21</th>\n",
       "      <td>21</td>\n",
       "      <td>10</td>\n",
       "      <td>0.202682</td>\n",
       "    </tr>\n",
       "    <tr>\n",
       "      <th>22</th>\n",
       "      <td>23</td>\n",
       "      <td>11</td>\n",
       "      <td>0.224241</td>\n",
       "    </tr>\n",
       "    <tr>\n",
       "      <th>23</th>\n",
       "      <td>27</td>\n",
       "      <td>11</td>\n",
       "      <td>0.224241</td>\n",
       "    </tr>\n",
       "    <tr>\n",
       "      <th>24</th>\n",
       "      <td>22</td>\n",
       "      <td>12</td>\n",
       "      <td>0.273407</td>\n",
       "    </tr>\n",
       "    <tr>\n",
       "      <th>25</th>\n",
       "      <td>36</td>\n",
       "      <td>12</td>\n",
       "      <td>0.273407</td>\n",
       "    </tr>\n",
       "    <tr>\n",
       "      <th>26</th>\n",
       "      <td>12</td>\n",
       "      <td>13</td>\n",
       "      <td>0.285177</td>\n",
       "    </tr>\n",
       "    <tr>\n",
       "      <th>27</th>\n",
       "      <td>34</td>\n",
       "      <td>13</td>\n",
       "      <td>0.285177</td>\n",
       "    </tr>\n",
       "    <tr>\n",
       "      <th>28</th>\n",
       "      <td>16</td>\n",
       "      <td>14</td>\n",
       "      <td>0.337921</td>\n",
       "    </tr>\n",
       "    <tr>\n",
       "      <th>29</th>\n",
       "      <td>43</td>\n",
       "      <td>14</td>\n",
       "      <td>0.337921</td>\n",
       "    </tr>\n",
       "    <tr>\n",
       "      <th>30</th>\n",
       "      <td>28</td>\n",
       "      <td>15</td>\n",
       "      <td>0.341565</td>\n",
       "    </tr>\n",
       "    <tr>\n",
       "      <th>31</th>\n",
       "      <td>39</td>\n",
       "      <td>15</td>\n",
       "      <td>0.341565</td>\n",
       "    </tr>\n",
       "    <tr>\n",
       "      <th>32</th>\n",
       "      <td>9</td>\n",
       "      <td>16</td>\n",
       "      <td>0.348985</td>\n",
       "    </tr>\n",
       "    <tr>\n",
       "      <th>33</th>\n",
       "      <td>40</td>\n",
       "      <td>16</td>\n",
       "      <td>0.348985</td>\n",
       "    </tr>\n",
       "    <tr>\n",
       "      <th>34</th>\n",
       "      <td>8</td>\n",
       "      <td>17</td>\n",
       "      <td>0.411852</td>\n",
       "    </tr>\n",
       "    <tr>\n",
       "      <th>35</th>\n",
       "      <td>10</td>\n",
       "      <td>17</td>\n",
       "      <td>0.411852</td>\n",
       "    </tr>\n",
       "    <tr>\n",
       "      <th>36</th>\n",
       "      <td>19</td>\n",
       "      <td>18</td>\n",
       "      <td>0.488855</td>\n",
       "    </tr>\n",
       "    <tr>\n",
       "      <th>37</th>\n",
       "      <td>26</td>\n",
       "      <td>18</td>\n",
       "      <td>0.488855</td>\n",
       "    </tr>\n",
       "    <tr>\n",
       "      <th>38</th>\n",
       "      <td>6</td>\n",
       "      <td>19</td>\n",
       "      <td>0.594097</td>\n",
       "    </tr>\n",
       "    <tr>\n",
       "      <th>39</th>\n",
       "      <td>41</td>\n",
       "      <td>19</td>\n",
       "      <td>0.594097</td>\n",
       "    </tr>\n",
       "    <tr>\n",
       "      <th>40</th>\n",
       "      <td>4</td>\n",
       "      <td>20</td>\n",
       "      <td>0.636094</td>\n",
       "    </tr>\n",
       "    <tr>\n",
       "      <th>41</th>\n",
       "      <td>35</td>\n",
       "      <td>20</td>\n",
       "      <td>0.636094</td>\n",
       "    </tr>\n",
       "    <tr>\n",
       "      <th>42</th>\n",
       "      <td>25</td>\n",
       "      <td>21</td>\n",
       "      <td>0.875000</td>\n",
       "    </tr>\n",
       "    <tr>\n",
       "      <th>43</th>\n",
       "      <td>37</td>\n",
       "      <td>21</td>\n",
       "      <td>0.875000</td>\n",
       "    </tr>\n",
       "  </tbody>\n",
       "</table>\n",
       "</div>"
      ],
      "text/plain": [
       "    index  label  distance\n",
       "0       5      0  0.060858\n",
       "1      29      0  0.060858\n",
       "2      33      1  0.060858\n",
       "3      42      1  0.060858\n",
       "4       1      2  0.121716\n",
       "5      11      2  0.121716\n",
       "6       3      3  0.121716\n",
       "7      17      3  0.121716\n",
       "8      14      4  0.129099\n",
       "9      18      4  0.129099\n",
       "10      2      5  0.136083\n",
       "11     20      5  0.136083\n",
       "12     32      6  0.147076\n",
       "13     38      6  0.147076\n",
       "14     13      7  0.184391\n",
       "15     15      7  0.184391\n",
       "16     24      8  0.190738\n",
       "17     31      8  0.190738\n",
       "18      0      9  0.196825\n",
       "19     30      9  0.196825\n",
       "20      7     10  0.202682\n",
       "21     21     10  0.202682\n",
       "22     23     11  0.224241\n",
       "23     27     11  0.224241\n",
       "24     22     12  0.273407\n",
       "25     36     12  0.273407\n",
       "26     12     13  0.285177\n",
       "27     34     13  0.285177\n",
       "28     16     14  0.337921\n",
       "29     43     14  0.337921\n",
       "30     28     15  0.341565\n",
       "31     39     15  0.341565\n",
       "32      9     16  0.348985\n",
       "33     40     16  0.348985\n",
       "34      8     17  0.411852\n",
       "35     10     17  0.411852\n",
       "36     19     18  0.488855\n",
       "37     26     18  0.488855\n",
       "38      6     19  0.594097\n",
       "39     41     19  0.594097\n",
       "40      4     20  0.636094\n",
       "41     35     20  0.636094\n",
       "42     25     21  0.875000\n",
       "43     37     21  0.875000"
      ]
     },
     "execution_count": 397,
     "metadata": {},
     "output_type": "execute_result"
    }
   ],
   "source": [
    "pd.DataFrame({'index': label_index, 'label': labels_list, 'distance': distance_list})"
   ]
  },
  {
   "attachments": {},
   "cell_type": "markdown",
   "id": "ebf02d83",
   "metadata": {},
   "source": [
    "In the above output you can see the number of users that are in each group and their preferences. \n"
   ]
  }
 ],
 "metadata": {
  "kernelspec": {
   "display_name": "dvet-env",
   "language": "python",
   "name": "python3"
  },
  "language_info": {
   "codemirror_mode": {
    "name": "ipython",
    "version": 3
   },
   "file_extension": ".py",
   "mimetype": "text/x-python",
   "name": "python",
   "nbconvert_exporter": "python",
   "pygments_lexer": "ipython3",
   "version": "3.9.16"
  },
  "vscode": {
   "interpreter": {
    "hash": "04017fc600d550f61c454b2e9864ff9ef54d4b52d78d41f460e92b82a27071a3"
   }
  }
 },
 "nbformat": 4,
 "nbformat_minor": 5
}

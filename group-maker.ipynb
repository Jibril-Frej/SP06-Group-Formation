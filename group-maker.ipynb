{
 "cells": [
  {
   "cell_type": "markdown",
   "id": "c496433f",
   "metadata": {},
   "source": [
    "# Similarity and Complementary Clustering"
   ]
  },
  {
   "cell_type": "code",
   "execution_count": null,
   "id": "72b695c0",
   "metadata": {},
   "outputs": [],
   "source": [
    "import pandas as pd\n",
    "import utils\n",
    "import numpy as np\n",
    "import importlib\n",
    "importlib.reload(utils)"
   ]
  },
  {
   "cell_type": "markdown",
   "id": "7af837ff-6c6d-4b78-939e-635c72579a30",
   "metadata": {},
   "source": [
    "### Change verbose to 1 to display more information"
   ]
  },
  {
   "cell_type": "code",
   "execution_count": null,
   "id": "7f2b70df-2235-4301-a6f3-0c2eae16e849",
   "metadata": {},
   "outputs": [],
   "source": [
    "verbose = 0\n",
    "data_path = \"data/\"\n",
    "label_file = data_path + 'AnmeldungCoLearningC_DATA_LABELS_2023-02-22_1045.csv'\n",
    "translation_file = data_path + \"translations.json\"\n",
    "similar_interest_file = data_path + \"similar_interests.json\"\n",
    "availabilities_file = data_path + \"availabilities.json\"\n",
    "comp_interest_file = data_path + \"complementary_interests.json\"\n",
    "comp_strength_file = data_path + \"complementary_strength.json\"\n",
    "df_translated = utils.load_data(label_file, translation_file)"
   ]
  },
  {
   "cell_type": "markdown",
   "id": "5bf47bc6",
   "metadata": {},
   "source": [
    "## 1) Group by similarity"
   ]
  },
  {
   "cell_type": "code",
   "execution_count": null,
   "id": "99896cc8",
   "metadata": {},
   "outputs": [],
   "source": [
    "df_similar = utils.group_by_similarity(df_translated, similar_interest_file, availabilities_file, verbose = verbose)"
   ]
  },
  {
   "attachments": {},
   "cell_type": "markdown",
   "id": "9061726b",
   "metadata": {},
   "source": [
    "## 2) Group by Complementary"
   ]
  },
  {
   "cell_type": "code",
   "execution_count": null,
   "id": "b502fee2",
   "metadata": {},
   "outputs": [],
   "source": [
    "df_comp = utils.group_by_complementarity(df_translated, comp_interest_file, comp_strength_file, availabilities_file, verbose = verbose)"
   ]
  },
  {
   "cell_type": "code",
   "execution_count": null,
   "id": "e44fc070",
   "metadata": {},
   "outputs": [],
   "source": [
    "len(df_similar)+len(df_comp)"
   ]
  },
  {
   "attachments": {},
   "cell_type": "markdown",
   "id": "a677a26f",
   "metadata": {},
   "source": [
    "## 3) Visualize all groups"
   ]
  },
  {
   "cell_type": "code",
   "execution_count": null,
   "id": "467956f9",
   "metadata": {},
   "outputs": [],
   "source": [
    "df_groups = utils.get_groups(df_similar, df_comp)"
   ]
  },
  {
   "attachments": {},
   "cell_type": "markdown",
   "id": "d38902d0",
   "metadata": {},
   "source": [
    "## Display all groups"
   ]
  },
  {
   "cell_type": "code",
   "execution_count": null,
   "id": "66f04c53",
   "metadata": {},
   "outputs": [],
   "source": [
    "# add a column with number of members per team\n",
    "df_groups.sort_values('study_group')"
   ]
  },
  {
   "attachments": {},
   "cell_type": "markdown",
   "id": "18fa77b4",
   "metadata": {},
   "source": [
    "## Display groups size"
   ]
  },
  {
   "cell_type": "code",
   "execution_count": null,
   "id": "52fa7fa8",
   "metadata": {},
   "outputs": [],
   "source": [
    "df_groups['study_group'].value_counts()"
   ]
  }
 ],
 "metadata": {
  "kernelspec": {
   "display_name": "Python",
   "language": "python",
   "name": "python3"
  },
  "language_info": {
   "codemirror_mode": {
    "name": "ipython",
    "version": 3
   },
   "file_extension": ".py",
   "mimetype": "text/x-python",
   "name": "python",
   "nbconvert_exporter": "python",
   "pygments_lexer": "ipython3",
   "version": "3.9.16"
  }
 },
 "nbformat": 4,
 "nbformat_minor": 5
}
